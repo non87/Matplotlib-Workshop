{
 "cells": [
  {
   "cell_type": "markdown",
   "metadata": {},
   "source": [
    "# Introduction to Matplotlib. Part 1\n",
    "\n",
    "Welcome. This is the first part of the Data Visualization with Matplotlib Workshop. This is a two parts workshop. In this first part, we will go through the basics of Matplotlib. Tomorrow, we will apply what we learned today to create different popular kinds of plots.\n",
    "\n",
    "<div class=\"alert alert-block alert-success\">\n",
    "    <b>More Technical</b>: Throughout the notebook. This kind of boxes provide more technical details and extra references about what you are seeing. They contain helpful tips, but you can safely skip them the first time you run through the code.\n",
    "</div>\n",
    "\n",
    "Let us start with importing some useful packages. We will be working with three packages: **numpy** , **pandas** and **matplotlob**. The main focus will be on matplotlib and data visualization, but numpy and pandas are great packages to handle data."
   ]
  },
  {
   "cell_type": "code",
   "execution_count": 7,
   "metadata": {
    "scrolled": false
   },
   "outputs": [],
   "source": [
    "import numpy as np\n",
    "import pandas as pd\n",
    "%matplotlib inline\n",
    "import matplotlib\n",
    "import matplotlib.pyplot as plt"
   ]
  },
  {
   "cell_type": "markdown",
   "metadata": {},
   "source": [
    "### DataFrame and Array\n",
    "\n",
    "You may have noticed: we did not import matplotlib all. We will in a minute. First, let us spend some time introducing the data containers we will use: numpy `array` and pandas `DataFrame`. "
   ]
  },
  {
   "cell_type": "markdown",
   "metadata": {},
   "source": [
    "#### Array\n",
    "\n",
    "Numpy `array` is a flexible data structure to store (mostly) numerical data. If you have ever encountered linear algebra, you can compare an `array` to a matrix or a vector. As for vectors and matrices, you can refer to elements within an `array` using indices. Like vectors and matrices, an array has a clearly-defined dimension."
   ]
  },
  {
   "cell_type": "code",
   "execution_count": 5,
   "metadata": {
    "scrolled": false
   },
   "outputs": [
    {
     "name": "stdout",
     "output_type": "stream",
     "text": [
      "Our new array: [1 2 3 4]\n",
      "This is the dimension of the array: (4,)\n",
      "This is the third element of the array: 3\n",
      "Our new array:\n",
      " [[1 2 3 4]\n",
      " [4 5 6 7]]\n",
      "This is the dimension of the array in the (rows, columns) form: (2, 4)\n",
      "This is the first row, third column element of the array: 3\n",
      "This is the second row, second column element of the array: 5\n"
     ]
    }
   ],
   "source": [
    "# Let's explore np.array()\n",
    "# Start with random numerical data in a list\n",
    "dt = [1,2,3,4]\n",
    "# Convert\n",
    "dt = np.array(dt)\n",
    "print(f'Our new array: {dt}')\n",
    "print(f'This is the dimension of the array: {dt.shape}') \n",
    "print(f'This is the third element of the array: {dt[2]}')\n",
    "\n",
    "# More interesting, a 2-dimensions array -- a.k.a. matrix\n",
    "# We can pass a list of lists. Numpy will interpret them as rows \n",
    "# If properly dimensioned\n",
    "dt = [[1,2,3,4], [4,5,6,7]]\n",
    "dt = np.array(dt)\n",
    "print(f'Our new array:\\n {dt}')\n",
    "print(f'This is the dimension of the array in the (rows, columns) form: {dt.shape}') \n",
    "# So far so good, but check the selection.\n",
    "print(f'This is the first row, third column element of the array: {dt[0, 2]}')\n",
    "print(f'This is the second row, second column element of the array: {dt[1, 1]}')"
   ]
  },
  {
   "cell_type": "markdown",
   "metadata": {},
   "source": [
    "We will use `array` mostly to store data and manage axes (see below). But I should mention that numpy is a truly great library. Along with its expansion **scipy** it is at the basis of most data-analysis tools in Python: you can use it for linear algebra, numerical recipes, optimization and much much more.\n",
    "\n",
    "<div class=\"alert alert-block alert-success\">\n",
    "    <b>Back to the Basics</b>: Matplotlib and Pandas are no exceptions to the rule: both are constructed on top of numpy. Indeed, matplotlib internally converts all to-be-plotted data into numpy array -- even Pandas Series or Python built-in lists!\n",
    "</div>\n"
   ]
  },
  {
   "cell_type": "markdown",
   "metadata": {},
   "source": [
    "#### DataFrame\n",
    "\n",
    "The other data container is the `DataFrame` from pandas. A `DataFrame` can also be thought of as a 2-dimensional matrix. Like an `array`, it has a fixed dimension. However, it can contain all sort of different data-types and it has names for both columns and rows. From this perspective, a DataFrame is very close to a spreadsheet (or `R` data.frame).\n",
    "\n",
    "<div class=\"alert alert-block alert-success\">\n",
    "    <b>Introduction to Pandas</b>: Exactly like numpy, Pandas is a vast and powerful library. For a more complete introduction to Pandas, you can check my previous workshop <a href=\"https://github.com/non87/GeoPandas-Workshop/blob/master/workshop1_colaboratory.ipynb\">Introduction to GeoPandas, Part I</a>. The notebook contains an in-depth tutorial about Pandas DataFrame and Series. \n",
    "    </div>"
   ]
  },
  {
   "cell_type": "code",
   "execution_count": 8,
   "metadata": {
    "scrolled": true
   },
   "outputs": [
    {
     "name": "stdout",
     "output_type": "stream",
     "text": [
      "<class 'pandas.core.frame.DataFrame'>\n",
      "RangeIndex: 1192014 entries, 0 to 1192013\n",
      "Data columns (total 6 columns):\n",
      " #   Column      Non-Null Count    Dtype \n",
      "---  ------      --------------    ----- \n",
      " 0   Unnamed: 0  1192014 non-null  int64 \n",
      " 1   Id          1192014 non-null  int64 \n",
      " 2   Name        1192014 non-null  object\n",
      " 3   Year        1192014 non-null  int64 \n",
      " 4   Gender      1192014 non-null  object\n",
      " 5   Count       1192014 non-null  int64 \n",
      "dtypes: int64(4), object(2)\n",
      "memory usage: 54.6+ MB\n",
      "None\n",
      "\n",
      "\n",
      "This is the Name column: 0              Lisa\n",
      "1              Mary\n",
      "2             Karen\n",
      "3          Kimberly\n",
      "4             Susan\n",
      "             ...   \n",
      "1192009      Zykeem\n",
      "1192010      Zymeer\n",
      "1192011     Zymiere\n",
      "1192012       Zyran\n",
      "1192013       Zyrin\n",
      "Name: Name, Length: 1192014, dtype: object\n",
      "\n",
      "\n",
      "The Ruth data:\n",
      "         Unnamed: 0       Id  Name  Year Gender  Count\n",
      "117          633536   633537  Ruth  1965      F   3231\n",
      "9984         643403   643404  Ruth  1965      M     12\n",
      "12079        645498   645499  Ruth  1966      F   2847\n",
      "22159        655578   655579  Ruth  1966      M     11\n",
      "24244        657663   657664  Ruth  1967      F   2419\n",
      "...             ...      ...   ...   ...    ...    ...\n",
      "1024518     1657937  1657938  Ruth  2010      F    927\n",
      "1058572     1691991  1691992  Ruth  2011      F    897\n",
      "1092424     1725843  1725844  Ruth  2012      F    925\n",
      "1126095     1759514  1759515  Ruth  2013      F    979\n",
      "1159284     1792703  1792704  Ruth  2014      F   1042\n",
      "\n",
      "[79 rows x 6 columns]\n"
     ]
    }
   ],
   "source": [
    "# Read the name data from a csv\n",
    "#names = pd.read_csv('national_reduced.csv')\n",
    "name_data_url = r'https://raw.githubusercontent.com/non87/Matplotlib-Workshop/master/data/national_reduced.csv'\n",
    "names = pd.read_csv(name_data_url)\n",
    "# Look at the column names and data type\n",
    "print(f'{names.info()}')\n",
    "# Select only one column\n",
    "print(f'\\n\\nThis is the Name column: {names[\"Name\"]}')\n",
    "# Select all rows for the name 'Ruth' using the .loc operator\n",
    "print(f'\\n\\nThe Ruth data:\\n{names.loc[names[\"Name\"] == \"Ruth\", :]}')"
   ]
  },
  {
   "cell_type": "markdown",
   "metadata": {},
   "source": [
    "Pandas is a great library for data handling. In this workshop, we will not be focusing on it, though. However, we will use it to select relevant rows, group data, etc. Previous exposure to pandas is useful to understand those lines of code. In any case, the exercises will not be based on pandas and I will limit the use of pandas method to the bare minimum.\n",
    "\n",
    "<div class=\"alert alert-block alert-success\">\n",
    "<b> US Baby Names </b>: The name data we just loaded contains information about first names' use in the US from 1965 to 2014. Originally, the data is distributed by the Social Security Administration. It contains the frequency and associated Gender for all names given to newborns in the US in any given year from from 1880 -- conditional on the name being used at least 5 time in that year. I downloaded the original data from <a href=\"https://www.kaggle.com/kaggle/us-baby-names/data?select=NationalNames.csv\">Kaggle</a> and only selected years later than 1965 (extreme included).\n",
    "        </div>"
   ]
  },
  {
   "cell_type": "markdown",
   "metadata": {},
   "source": [
    "### All You Need is One or More Axes, and Everyone Is an Artist\n",
    "\n",
    "Finally, it is time to dive into matplotlib. Let us start with importing. Here we immediately encounter our first difficulty: this is a notebook. Matplotlib has some peculiar behaviour inside notebooks. It is time to introduce the idea of _backend_ and how matplotlib manages its _backend_ differently inside a notebook. Unfortunately, we have to discuss this before importing matplotlib, because this has to be set immediately. Don't worry, everything will get less technical and more practical from here!\n",
    "\n",
    "#### Backend\n",
    "\n",
    "Quoting from the <a href=https://matplotlib.org/faq/usage_faq.html#what-is-a-backend>matplotlib official documentation</a>:\n",
    "\n",
    "\n",
    ">The “frontend” is the user facing code, i.e., the plotting code, whereas the “backend” does all the hard work behind-the-scenes to make the figure. There are two types of backends: user interface backends (for use in pygtk, wxpython, tkinter, qt4, or macosx; also referred to as “interactive backends”) and hardcopy backends to make image files (PNG, SVG, PDF, PS; also referred to as “non-interactive backends”).\n",
    "\n",
    "\n",
    "In other words, a backend transforms code into a figure. There are different options to do this, with the main difference being between the hard and the interactive modes. Indeed, a backend will either save the final product on a file ( _hard backend_ ), such as a png file, or show you the plot on screen ( _interactive backend_ ). \n",
    "\n",
    "Matplotlib is smart and will select a working backend for you most of the time. Therefore, you will hardly ever notice -- especially if you just want to save a figure in an external file. However, it is important we check how backends work because the code you write and the behavior of matplotlib will change implictly depending on how you are running your code (notebook, live coding, or script). To write code that reliably produces the results you want, knowing the basics of matplotlib backends is fundamental. For example, how do we translate notebook code to script code?"
   ]
  },
  {
   "cell_type": "code",
   "execution_count": 7,
   "metadata": {
    "scrolled": false
   },
   "outputs": [
    {
     "name": "stdout",
     "output_type": "stream",
     "text": [
      "This is the current backend: Qt5Agg\n"
     ]
    }
   ],
   "source": [
    "# First we import matplotlib\n",
    "import matplotlib\n",
    "matplotlib.use('QT5Agg')\n",
    "import matplotlib.pyplot as plt\n",
    "# Then we choose the backend with the function .use()\n",
    "# We choose the interactive backend QT5Agg (a good choice most of the time)\n",
    "# Print the current backend\n",
    "print(f\"This is the current backend: {matplotlib.get_backend()}\")\n",
    "# *The* Fundamental Line of matplotlib\n",
    "fig, ax = plt.subplots()\n",
    "# Tell the interactive backend to plot the figure (not much to be seen here)\n",
    "fig.show()"
   ]
  },
  {
   "cell_type": "markdown",
   "metadata": {},
   "source": [
    "Now, as is often the case, we will use a sub-module within matplotlib named `pyplot` , which collects high-end function for plotting. This is the basic syntax we will use throughout the workshop:\n",
    "```\n",
    "fig, ax = plt.subplots()\n",
    "```\n",
    "I call this _The Fundamental Line_. We we will soon learn what it does in more details. For now, let's just say it starts a plot. Let's see what happens with different backends. Let's try the same exact lines but with the default jupyter notebook backend (`inline`) -- at  least, this is the default in my installation of Jupyter, it is possible that different versions have different default. To do this we will use the <a href=\"https://ipython.readthedocs.io/en/stable/interactive/tutorial.html#magics-explained\">magic functions</a> of Ipython (official name!). These lines substitute the cumbersome call to the `matplotlib.use()` function.\n",
    "\n",
    "Conveniently, this backend will make the plot appears within the output of the code cell. As a downside, this backend is not really interactive in the same way as `Qt5Agg` and others. When you use `inline` you have to write all the plotting code in one cell and you cannot modify the plot once it has been created. Truly interactive backends like `Qt5Agg` (and others) allows you to check what you are doing while you do it.  The basic rule you have to follow when plotting in notebooks:  **One cell, one plot**. Depending on your coding style this may or may not be a big deal. "
   ]
  },
  {
   "cell_type": "code",
   "execution_count": 8,
   "metadata": {
    "scrolled": false
   },
   "outputs": [
    {
     "name": "stdout",
     "output_type": "stream",
     "text": [
      "Available matplotlib backends: ['tk', 'gtk', 'gtk3', 'wx', 'qt4', 'qt5', 'qt', 'osx', 'nbagg', 'notebook', 'agg', 'svg', 'pdf', 'ps', 'inline', 'ipympl', 'widget']\n",
      "This is the current backend: module://ipykernel.pylab.backend_inline\n"
     ]
    },
    {
     "name": "stderr",
     "output_type": "stream",
     "text": [
      "<ipython-input-8-28202c6ab76d>:9: UserWarning: Matplotlib is currently using module://ipykernel.pylab.backend_inline, which is a non-GUI backend, so cannot show the figure.\n",
      "  fig.show()\n"
     ]
    },
    {
     "data": {
      "image/png": "[encoded data removed]",
      "text/plain": [
       "<Figure size 432x288 with 1 Axes>"
      ]
     },
     "metadata": {
      "needs_background": "light"
     },
     "output_type": "display_data"
    }
   ],
   "source": [
    "# Change the backend to a notebook specific backend.\n",
    "%matplotlib --list\n",
    "%matplotlib inline\n",
    "# Print the current backend\n",
    "print(f\"This is the current backend: {matplotlib.get_backend()}\")\n",
    "# *The* Fundamental Line of matplotlib\n",
    "fig, ax = matplotlib.pyplot.subplots()\n",
    "# Tell the interactive backend to plot the figure (not much to be seen here)\n",
    "fig.show()"
   ]
  },
  {
   "cell_type": "markdown",
   "metadata": {},
   "source": [
    "You can notice matplotlib is complaining about the use of `fig.show()`, which we did not see with the Qt5Agg backend. Moreover, the plot now appears below the code.\n",
    "\n",
    "Naturally, there are plenty of options for  backends and you can use `Qt5Agg` even in a notebook, as you just saw. There also plenty of options specific to the notebook environment. We saw `inline`, let's see  `nbagg`. \n",
    "\n",
    " <div class=\"alert alert-block alert-success\">\n",
    "<b> Interactive Backends in a Notebook </b>: To use the notebook specific backends widget, ipympl and notebook, you will need to install the package ipympl. When working, these backends are fully interactive backends designed specifically for a notebook environment. But you may have to install nodejs as well to have it fully working.\n",
    "        </div>"
   ]
  },
  {
   "cell_type": "code",
   "execution_count": 10,
   "metadata": {
    "scrolled": false
   },
   "outputs": [
    {
     "name": "stdout",
     "output_type": "stream",
     "text": [
      "This is the current backend: nbAgg\n"
     ]
    },
    {
     "data": {
      "application/javascript": [
       "/* Put everything inside the global mpl namespace */\n",
       "window.mpl = {};\n",
       "\n",
       "\n",
       "mpl.get_websocket_type = function() {\n",
       "    if (typeof(WebSocket) !== 'undefined') {\n",
       "        return WebSocket;\n",
       "    } else if (typeof(MozWebSocket) !== 'undefined') {\n",
       "        return MozWebSocket;\n",
       "    } else {\n",
       "        alert('Your browser does not have WebSocket support. ' +\n",
       "              'Please try Chrome, Safari or Firefox ≥ 6. ' +\n",
       "              'Firefox 4 and 5 are also supported but you ' +\n",
       "              'have to enable WebSockets in about:config.');\n",
       "    };\n",
       "}\n",
       "\n",
       "mpl.figure = function(figure_id, websocket, ondownload, parent_element) {\n",
       "    this.id = figure_id;\n",
       "\n",
       "    this.ws = websocket;\n",
       "\n",
       "    this.supports_binary = (this.ws.binaryType != undefined);\n",
       "\n",
       "    if (!this.supports_binary) {\n",
       "        var warnings = document.getElementById(\"mpl-warnings\");\n",
       "        if (warnings) {\n",
       "            warnings.style.display = 'block';\n",
       "            warnings.textContent = (\n",
       "                \"This browser does not support binary websocket messages. \" +\n",
       "                    \"Performance may be slow.\");\n",
       "        }\n",
       "    }\n",
       "\n",
       "    this.imageObj = new Image();\n",
       "\n",
       "    this.context = undefined;\n",
       "    this.message = undefined;\n",
       "    this.canvas = undefined;\n",
       "    this.rubberband_canvas = undefined;\n",
       "    this.rubberband_context = undefined;\n",
       "    this.format_dropdown = undefined;\n",
       "\n",
       "    this.image_mode = 'full';\n",
       "\n",
       "    this.root = $('<div/>');\n",
       "    this._root_extra_style(this.root)\n",
       "    this.root.attr('style', 'display: inline-block');\n",
       "\n",
       "    $(parent_element).append(this.root);\n",
       "\n",
       "    this._init_header(this);\n",
       "    this._init_canvas(this);\n",
       "    this._init_toolbar(this);\n",
       "\n",
       "    var fig = this;\n",
       "\n",
       "    this.waiting = false;\n",
       "\n",
       "    this.ws.onopen =  function () {\n",
       "            fig.send_message(\"supports_binary\", {value: fig.supports_binary});\n",
       "            fig.send_message(\"send_image_mode\", {});\n",
       "            if (mpl.ratio != 1) {\n",
       "                fig.send_message(\"set_dpi_ratio\", {'dpi_ratio': mpl.ratio});\n",
       "            }\n",
       "            fig.send_message(\"refresh\", {});\n",
       "        }\n",
       "\n",
       "    this.imageObj.onload = function() {\n",
       "            if (fig.image_mode == 'full') {\n",
       "                // Full images could contain transparency (where diff images\n",
       "                // almost always do), so we need to clear the canvas so that\n",
       "                // there is no ghosting.\n",
       "                fig.context.clearRect(0, 0, fig.canvas.width, fig.canvas.height);\n",
       "            }\n",
       "            fig.context.drawImage(fig.imageObj, 0, 0);\n",
       "        };\n",
       "\n",
       "    this.imageObj.onunload = function() {\n",
       "        fig.ws.close();\n",
       "    }\n",
       "\n",
       "    this.ws.onmessage = this._make_on_message_function(this);\n",
       "\n",
       "    this.ondownload = ondownload;\n",
       "}\n",
       "\n",
       "mpl.figure.prototype._init_header = function() {\n",
       "    var titlebar = $(\n",
       "        '<div class=\"ui-dialog-titlebar ui-widget-header ui-corner-all ' +\n",
       "        'ui-helper-clearfix\"/>');\n",
       "    var titletext = $(\n",
       "        '<div class=\"ui-dialog-title\" style=\"width: 100%; ' +\n",
       "        'text-align: center; padding: 3px;\"/>');\n",
       "    titlebar.append(titletext)\n",
       "    this.root.append(titlebar);\n",
       "    this.header = titletext[0];\n",
       "}\n",
       "\n",
       "\n",
       "\n",
       "mpl.figure.prototype._canvas_extra_style = function(canvas_div) {\n",
       "\n",
       "}\n",
       "\n",
       "\n",
       "mpl.figure.prototype._root_extra_style = function(canvas_div) {\n",
       "\n",
       "}\n",
       "\n",
       "mpl.figure.prototype._init_canvas = function() {\n",
       "    var fig = this;\n",
       "\n",
       "    var canvas_div = $('<div/>');\n",
       "\n",
       "    canvas_div.attr('style', 'position: relative; clear: both; outline: 0');\n",
       "\n",
       "    function canvas_keyboard_event(event) {\n",
       "        return fig.key_event(event, event['data']);\n",
       "    }\n",
       "\n",
       "    canvas_div.keydown('key_press', canvas_keyboard_event);\n",
       "    canvas_div.keyup('key_release', canvas_keyboard_event);\n",
       "    this.canvas_div = canvas_div\n",
       "    this._canvas_extra_style(canvas_div)\n",
       "    this.root.append(canvas_div);\n",
       "\n",
       "    var canvas = $('<canvas/>');\n",
       "    canvas.addClass('mpl-canvas');\n",
       "    canvas.attr('style', \"left: 0; top: 0; z-index: 0; outline: 0\")\n",
       "\n",
       "    this.canvas = canvas[0];\n",
       "    this.context = canvas[0].getContext(\"2d\");\n",
       "\n",
       "    var backingStore = this.context.backingStorePixelRatio ||\n",
       "\tthis.context.webkitBackingStorePixelRatio ||\n",
       "\tthis.context.mozBackingStorePixelRatio ||\n",
       "\tthis.context.msBackingStorePixelRatio ||\n",
       "\tthis.context.oBackingStorePixelRatio ||\n",
       "\tthis.context.backingStorePixelRatio || 1;\n",
       "\n",
       "    mpl.ratio = (window.devicePixelRatio || 1) / backingStore;\n",
       "\n",
       "    var rubberband = $('<canvas/>');\n",
       "    rubberband.attr('style', \"position: absolute; left: 0; top: 0; z-index: 1;\")\n",
       "\n",
       "    var pass_mouse_events = true;\n",
       "\n",
       "    canvas_div.resizable({\n",
       "        start: function(event, ui) {\n",
       "            pass_mouse_events = false;\n",
       "        },\n",
       "        resize: function(event, ui) {\n",
       "            fig.request_resize(ui.size.width, ui.size.height);\n",
       "        },\n",
       "        stop: function(event, ui) {\n",
       "            pass_mouse_events = true;\n",
       "            fig.request_resize(ui.size.width, ui.size.height);\n",
       "        },\n",
       "    });\n",
       "\n",
       "    function mouse_event_fn(event) {\n",
       "        if (pass_mouse_events)\n",
       "            return fig.mouse_event(event, event['data']);\n",
       "    }\n",
       "\n",
       "    rubberband.mousedown('button_press', mouse_event_fn);\n",
       "    rubberband.mouseup('button_release', mouse_event_fn);\n",
       "    // Throttle sequential mouse events to 1 every 20ms.\n",
       "    rubberband.mousemove('motion_notify', mouse_event_fn);\n",
       "\n",
       "    rubberband.mouseenter('figure_enter', mouse_event_fn);\n",
       "    rubberband.mouseleave('figure_leave', mouse_event_fn);\n",
       "\n",
       "    canvas_div.on(\"wheel\", function (event) {\n",
       "        event = event.originalEvent;\n",
       "        event['data'] = 'scroll'\n",
       "        if (event.deltaY < 0) {\n",
       "            event.step = 1;\n",
       "        } else {\n",
       "            event.step = -1;\n",
       "        }\n",
       "        mouse_event_fn(event);\n",
       "    });\n",
       "\n",
       "    canvas_div.append(canvas);\n",
       "    canvas_div.append(rubberband);\n",
       "\n",
       "    this.rubberband = rubberband;\n",
       "    this.rubberband_canvas = rubberband[0];\n",
       "    this.rubberband_context = rubberband[0].getContext(\"2d\");\n",
       "    this.rubberband_context.strokeStyle = \"#000000\";\n",
       "\n",
       "    this._resize_canvas = function(width, height) {\n",
       "        // Keep the size of the canvas, canvas container, and rubber band\n",
       "        // canvas in synch.\n",
       "        canvas_div.css('width', width)\n",
       "        canvas_div.css('height', height)\n",
       "\n",
       "        canvas.attr('width', width * mpl.ratio);\n",
       "        canvas.attr('height', height * mpl.ratio);\n",
       "        canvas.attr('style', 'width: ' + width + 'px; height: ' + height + 'px;');\n",
       "\n",
       "        rubberband.attr('width', width);\n",
       "        rubberband.attr('height', height);\n",
       "    }\n",
       "\n",
       "    // Set the figure to an initial 600x600px, this will subsequently be updated\n",
       "    // upon first draw.\n",
       "    this._resize_canvas(600, 600);\n",
       "\n",
       "    // Disable right mouse context menu.\n",
       "    $(this.rubberband_canvas).bind(\"contextmenu\",function(e){\n",
       "        return false;\n",
       "    });\n",
       "\n",
       "    function set_focus () {\n",
       "        canvas.focus();\n",
       "        canvas_div.focus();\n",
       "    }\n",
       "\n",
       "    window.setTimeout(set_focus, 100);\n",
       "}\n",
       "\n",
       "mpl.figure.prototype._init_toolbar = function() {\n",
       "    var fig = this;\n",
       "\n",
       "    var nav_element = $('<div/>');\n",
       "    nav_element.attr('style', 'width: 100%');\n",
       "    this.root.append(nav_element);\n",
       "\n",
       "    // Define a callback function for later on.\n",
       "    function toolbar_event(event) {\n",
       "        return fig.toolbar_button_onclick(event['data']);\n",
       "    }\n",
       "    function toolbar_mouse_event(event) {\n",
       "        return fig.toolbar_button_onmouseover(event['data']);\n",
       "    }\n",
       "\n",
       "    for(var toolbar_ind in mpl.toolbar_items) {\n",
       "        var name = mpl.toolbar_items[toolbar_ind][0];\n",
       "        var tooltip = mpl.toolbar_items[toolbar_ind][1];\n",
       "        var image = mpl.toolbar_items[toolbar_ind][2];\n",
       "        var method_name = mpl.toolbar_items[toolbar_ind][3];\n",
       "\n",
       "        if (!name) {\n",
       "            // put a spacer in here.\n",
       "            continue;\n",
       "        }\n",
       "        var button = $('<button/>');\n",
       "        button.addClass('ui-button ui-widget ui-state-default ui-corner-all ' +\n",
       "                        'ui-button-icon-only');\n",
       "        button.attr('role', 'button');\n",
       "        button.attr('aria-disabled', 'false');\n",
       "        button.click(method_name, toolbar_event);\n",
       "        button.mouseover(tooltip, toolbar_mouse_event);\n",
       "\n",
       "        var icon_img = $('<span/>');\n",
       "        icon_img.addClass('ui-button-icon-primary ui-icon');\n",
       "        icon_img.addClass(image);\n",
       "        icon_img.addClass('ui-corner-all');\n",
       "\n",
       "        var tooltip_span = $('<span/>');\n",
       "        tooltip_span.addClass('ui-button-text');\n",
       "        tooltip_span.html(tooltip);\n",
       "\n",
       "        button.append(icon_img);\n",
       "        button.append(tooltip_span);\n",
       "\n",
       "        nav_element.append(button);\n",
       "    }\n",
       "\n",
       "    var fmt_picker_span = $('<span/>');\n",
       "\n",
       "    var fmt_picker = $('<select/>');\n",
       "    fmt_picker.addClass('mpl-toolbar-option ui-widget ui-widget-content');\n",
       "    fmt_picker_span.append(fmt_picker);\n",
       "    nav_element.append(fmt_picker_span);\n",
       "    this.format_dropdown = fmt_picker[0];\n",
       "\n",
       "    for (var ind in mpl.extensions) {\n",
       "        var fmt = mpl.extensions[ind];\n",
       "        var option = $(\n",
       "            '<option/>', {selected: fmt === mpl.default_extension}).html(fmt);\n",
       "        fmt_picker.append(option);\n",
       "    }\n",
       "\n",
       "    // Add hover states to the ui-buttons\n",
       "    $( \".ui-button\" ).hover(\n",
       "        function() { $(this).addClass(\"ui-state-hover\");},\n",
       "        function() { $(this).removeClass(\"ui-state-hover\");}\n",
       "    );\n",
       "\n",
       "    var status_bar = $('<span class=\"mpl-message\"/>');\n",
       "    nav_element.append(status_bar);\n",
       "    this.message = status_bar[0];\n",
       "}\n",
       "\n",
       "mpl.figure.prototype.request_resize = function(x_pixels, y_pixels) {\n",
       "    // Request matplotlib to resize the figure. Matplotlib will then trigger a resize in the client,\n",
       "    // which will in turn request a refresh of the image.\n",
       "    this.send_message('resize', {'width': x_pixels, 'height': y_pixels});\n",
       "}\n",
       "\n",
       "mpl.figure.prototype.send_message = function(type, properties) {\n",
       "    properties['type'] = type;\n",
       "    properties['figure_id'] = this.id;\n",
       "    this.ws.send(JSON.stringify(properties));\n",
       "}\n",
       "\n",
       "mpl.figure.prototype.send_draw_message = function() {\n",
       "    if (!this.waiting) {\n",
       "        this.waiting = true;\n",
       "        this.ws.send(JSON.stringify({type: \"draw\", figure_id: this.id}));\n",
       "    }\n",
       "}\n",
       "\n",
       "\n",
       "mpl.figure.prototype.handle_save = function(fig, msg) {\n",
       "    var format_dropdown = fig.format_dropdown;\n",
       "    var format = format_dropdown.options[format_dropdown.selectedIndex].value;\n",
       "    fig.ondownload(fig, format);\n",
       "}\n",
       "\n",
       "\n",
       "mpl.figure.prototype.handle_resize = function(fig, msg) {\n",
       "    var size = msg['size'];\n",
       "    if (size[0] != fig.canvas.width || size[1] != fig.canvas.height) {\n",
       "        fig._resize_canvas(size[0], size[1]);\n",
       "        fig.send_message(\"refresh\", {});\n",
       "    };\n",
       "}\n",
       "\n",
       "mpl.figure.prototype.handle_rubberband = function(fig, msg) {\n",
       "    var x0 = msg['x0'] / mpl.ratio;\n",
       "    var y0 = (fig.canvas.height - msg['y0']) / mpl.ratio;\n",
       "    var x1 = msg['x1'] / mpl.ratio;\n",
       "    var y1 = (fig.canvas.height - msg['y1']) / mpl.ratio;\n",
       "    x0 = Math.floor(x0) + 0.5;\n",
       "    y0 = Math.floor(y0) + 0.5;\n",
       "    x1 = Math.floor(x1) + 0.5;\n",
       "    y1 = Math.floor(y1) + 0.5;\n",
       "    var min_x = Math.min(x0, x1);\n",
       "    var min_y = Math.min(y0, y1);\n",
       "    var width = Math.abs(x1 - x0);\n",
       "    var height = Math.abs(y1 - y0);\n",
       "\n",
       "    fig.rubberband_context.clearRect(\n",
       "        0, 0, fig.canvas.width / mpl.ratio, fig.canvas.height / mpl.ratio);\n",
       "\n",
       "    fig.rubberband_context.strokeRect(min_x, min_y, width, height);\n",
       "}\n",
       "\n",
       "mpl.figure.prototype.handle_figure_label = function(fig, msg) {\n",
       "    // Updates the figure title.\n",
       "    fig.header.textContent = msg['label'];\n",
       "}\n",
       "\n",
       "mpl.figure.prototype.handle_cursor = function(fig, msg) {\n",
       "    var cursor = msg['cursor'];\n",
       "    switch(cursor)\n",
       "    {\n",
       "    case 0:\n",
       "        cursor = 'pointer';\n",
       "        break;\n",
       "    case 1:\n",
       "        cursor = 'default';\n",
       "        break;\n",
       "    case 2:\n",
       "        cursor = 'crosshair';\n",
       "        break;\n",
       "    case 3:\n",
       "        cursor = 'move';\n",
       "        break;\n",
       "    }\n",
       "    fig.rubberband_canvas.style.cursor = cursor;\n",
       "}\n",
       "\n",
       "mpl.figure.prototype.handle_message = function(fig, msg) {\n",
       "    fig.message.textContent = msg['message'];\n",
       "}\n",
       "\n",
       "mpl.figure.prototype.handle_draw = function(fig, msg) {\n",
       "    // Request the server to send over a new figure.\n",
       "    fig.send_draw_message();\n",
       "}\n",
       "\n",
       "mpl.figure.prototype.handle_image_mode = function(fig, msg) {\n",
       "    fig.image_mode = msg['mode'];\n",
       "}\n",
       "\n",
       "mpl.figure.prototype.updated_canvas_event = function() {\n",
       "    // Called whenever the canvas gets updated.\n",
       "    this.send_message(\"ack\", {});\n",
       "}\n",
       "\n",
       "// A function to construct a web socket function for onmessage handling.\n",
       "// Called in the figure constructor.\n",
       "mpl.figure.prototype._make_on_message_function = function(fig) {\n",
       "    return function socket_on_message(evt) {\n",
       "        if (evt.data instanceof Blob) {\n",
       "            /* FIXME: We get \"Resource interpreted as Image but\n",
       "             * transferred with MIME type text/plain:\" errors on\n",
       "             * Chrome.  But how to set the MIME type?  It doesn't seem\n",
       "             * to be part of the websocket stream */\n",
       "            evt.data.type = \"image/png\";\n",
       "\n",
       "            /* Free the memory for the previous frames */\n",
       "            if (fig.imageObj.src) {\n",
       "                (window.URL || window.webkitURL).revokeObjectURL(\n",
       "                    fig.imageObj.src);\n",
       "            }\n",
       "\n",
       "            fig.imageObj.src = (window.URL || window.webkitURL).createObjectURL(\n",
       "                evt.data);\n",
       "            fig.updated_canvas_event();\n",
       "            fig.waiting = false;\n",
       "            return;\n",
       "        }\n",
       "        else if (typeof evt.data === 'string' && evt.data.slice(0, 21) == \"data:image/png;base64\") {\n",
       "            fig.imageObj.src = evt.data;\n",
       "            fig.updated_canvas_event();\n",
       "            fig.waiting = false;\n",
       "            return;\n",
       "        }\n",
       "\n",
       "        var msg = JSON.parse(evt.data);\n",
       "        var msg_type = msg['type'];\n",
       "\n",
       "        // Call the  \"handle_{type}\" callback, which takes\n",
       "        // the figure and JSON message as its only arguments.\n",
       "        try {\n",
       "            var callback = fig[\"handle_\" + msg_type];\n",
       "        } catch (e) {\n",
       "            console.log(\"No handler for the '\" + msg_type + \"' message type: \", msg);\n",
       "            return;\n",
       "        }\n",
       "\n",
       "        if (callback) {\n",
       "            try {\n",
       "                // console.log(\"Handling '\" + msg_type + \"' message: \", msg);\n",
       "                callback(fig, msg);\n",
       "            } catch (e) {\n",
       "                console.log(\"Exception inside the 'handler_\" + msg_type + \"' callback:\", e, e.stack, msg);\n",
       "            }\n",
       "        }\n",
       "    };\n",
       "}\n",
       "\n",
       "// from http://stackoverflow.com/questions/1114465/getting-mouse-location-in-canvas\n",
       "mpl.findpos = function(e) {\n",
       "    //this section is from http://www.quirksmode.org/js/events_properties.html\n",
       "    var targ;\n",
       "    if (!e)\n",
       "        e = window.event;\n",
       "    if (e.target)\n",
       "        targ = e.target;\n",
       "    else if (e.srcElement)\n",
       "        targ = e.srcElement;\n",
       "    if (targ.nodeType == 3) // defeat Safari bug\n",
       "        targ = targ.parentNode;\n",
       "\n",
       "    // jQuery normalizes the pageX and pageY\n",
       "    // pageX,Y are the mouse positions relative to the document\n",
       "    // offset() returns the position of the element relative to the document\n",
       "    var x = e.pageX - $(targ).offset().left;\n",
       "    var y = e.pageY - $(targ).offset().top;\n",
       "\n",
       "    return {\"x\": x, \"y\": y};\n",
       "};\n",
       "\n",
       "/*\n",
       " * return a copy of an object with only non-object keys\n",
       " * we need this to avoid circular references\n",
       " * http://stackoverflow.com/a/24161582/3208463\n",
       " */\n",
       "function simpleKeys (original) {\n",
       "  return Object.keys(original).reduce(function (obj, key) {\n",
       "    if (typeof original[key] !== 'object')\n",
       "        obj[key] = original[key]\n",
       "    return obj;\n",
       "  }, {});\n",
       "}\n",
       "\n",
       "mpl.figure.prototype.mouse_event = function(event, name) {\n",
       "    var canvas_pos = mpl.findpos(event)\n",
       "\n",
       "    if (name === 'button_press')\n",
       "    {\n",
       "        this.canvas.focus();\n",
       "        this.canvas_div.focus();\n",
       "    }\n",
       "\n",
       "    var x = canvas_pos.x * mpl.ratio;\n",
       "    var y = canvas_pos.y * mpl.ratio;\n",
       "\n",
       "    this.send_message(name, {x: x, y: y, button: event.button,\n",
       "                             step: event.step,\n",
       "                             guiEvent: simpleKeys(event)});\n",
       "\n",
       "    /* This prevents the web browser from automatically changing to\n",
       "     * the text insertion cursor when the button is pressed.  We want\n",
       "     * to control all of the cursor setting manually through the\n",
       "     * 'cursor' event from matplotlib */\n",
       "    event.preventDefault();\n",
       "    return false;\n",
       "}\n",
       "\n",
       "mpl.figure.prototype._key_event_extra = function(event, name) {\n",
       "    // Handle any extra behaviour associated with a key event\n",
       "}\n",
       "\n",
       "mpl.figure.prototype.key_event = function(event, name) {\n",
       "\n",
       "    // Prevent repeat events\n",
       "    if (name == 'key_press')\n",
       "    {\n",
       "        if (event.which === this._key)\n",
       "            return;\n",
       "        else\n",
       "            this._key = event.which;\n",
       "    }\n",
       "    if (name == 'key_release')\n",
       "        this._key = null;\n",
       "\n",
       "    var value = '';\n",
       "    if (event.ctrlKey && event.which != 17)\n",
       "        value += \"ctrl+\";\n",
       "    if (event.altKey && event.which != 18)\n",
       "        value += \"alt+\";\n",
       "    if (event.shiftKey && event.which != 16)\n",
       "        value += \"shift+\";\n",
       "\n",
       "    value += 'k';\n",
       "    value += event.which.toString();\n",
       "\n",
       "    this._key_event_extra(event, name);\n",
       "\n",
       "    this.send_message(name, {key: value,\n",
       "                             guiEvent: simpleKeys(event)});\n",
       "    return false;\n",
       "}\n",
       "\n",
       "mpl.figure.prototype.toolbar_button_onclick = function(name) {\n",
       "    if (name == 'download') {\n",
       "        this.handle_save(this, null);\n",
       "    } else {\n",
       "        this.send_message(\"toolbar_button\", {name: name});\n",
       "    }\n",
       "};\n",
       "\n",
       "mpl.figure.prototype.toolbar_button_onmouseover = function(tooltip) {\n",
       "    this.message.textContent = tooltip;\n",
       "};\n",
       "mpl.toolbar_items = [[\"Home\", \"Reset original view\", \"fa fa-home icon-home\", \"home\"], [\"Back\", \"Back to previous view\", \"fa fa-arrow-left icon-arrow-left\", \"back\"], [\"Forward\", \"Forward to next view\", \"fa fa-arrow-right icon-arrow-right\", \"forward\"], [\"\", \"\", \"\", \"\"], [\"Pan\", \"Pan axes with left mouse, zoom with right\", \"fa fa-arrows icon-move\", \"pan\"], [\"Zoom\", \"Zoom to rectangle\", \"fa fa-square-o icon-check-empty\", \"zoom\"], [\"\", \"\", \"\", \"\"], [\"Download\", \"Download plot\", \"fa fa-floppy-o icon-save\", \"download\"]];\n",
       "\n",
       "mpl.extensions = [\"eps\", \"pdf\", \"png\", \"ps\", \"raw\", \"svg\"];\n",
       "\n",
       "mpl.default_extension = \"png\";var comm_websocket_adapter = function(comm) {\n",
       "    // Create a \"websocket\"-like object which calls the given IPython comm\n",
       "    // object with the appropriate methods. Currently this is a non binary\n",
       "    // socket, so there is still some room for performance tuning.\n",
       "    var ws = {};\n",
       "\n",
       "    ws.close = function() {\n",
       "        comm.close()\n",
       "    };\n",
       "    ws.send = function(m) {\n",
       "        //console.log('sending', m);\n",
       "        comm.send(m);\n",
       "    };\n",
       "    // Register the callback with on_msg.\n",
       "    comm.on_msg(function(msg) {\n",
       "        //console.log('receiving', msg['content']['data'], msg);\n",
       "        // Pass the mpl event to the overridden (by mpl) onmessage function.\n",
       "        ws.onmessage(msg['content']['data'])\n",
       "    });\n",
       "    return ws;\n",
       "}\n",
       "\n",
       "mpl.mpl_figure_comm = function(comm, msg) {\n",
       "    // This is the function which gets called when the mpl process\n",
       "    // starts-up an IPython Comm through the \"matplotlib\" channel.\n",
       "\n",
       "    var id = msg.content.data.id;\n",
       "    // Get hold of the div created by the display call when the Comm\n",
       "    // socket was opened in Python.\n",
       "    var element = $(\"#\" + id);\n",
       "    var ws_proxy = comm_websocket_adapter(comm)\n",
       "\n",
       "    function ondownload(figure, format) {\n",
       "        window.open(figure.imageObj.src);\n",
       "    }\n",
       "\n",
       "    var fig = new mpl.figure(id, ws_proxy,\n",
       "                           ondownload,\n",
       "                           element.get(0));\n",
       "\n",
       "    // Call onopen now - mpl needs it, as it is assuming we've passed it a real\n",
       "    // web socket which is closed, not our websocket->open comm proxy.\n",
       "    ws_proxy.onopen();\n",
       "\n",
       "    fig.parent_element = element.get(0);\n",
       "    fig.cell_info = mpl.find_output_cell(\"<div id='\" + id + \"'></div>\");\n",
       "    if (!fig.cell_info) {\n",
       "        console.error(\"Failed to find cell for figure\", id, fig);\n",
       "        return;\n",
       "    }\n",
       "\n",
       "    var output_index = fig.cell_info[2]\n",
       "    var cell = fig.cell_info[0];\n",
       "\n",
       "};\n",
       "\n",
       "mpl.figure.prototype.handle_close = function(fig, msg) {\n",
       "    var width = fig.canvas.width/mpl.ratio\n",
       "    fig.root.unbind('remove')\n",
       "\n",
       "    // Update the output cell to use the data from the current canvas.\n",
       "    fig.push_to_output();\n",
       "    var dataURL = fig.canvas.toDataURL();\n",
       "    // Re-enable the keyboard manager in IPython - without this line, in FF,\n",
       "    // the notebook keyboard shortcuts fail.\n",
       "    IPython.keyboard_manager.enable()\n",
       "    $(fig.parent_element).html('<img src=\"' + dataURL + '\" width=\"' + width + '\">');\n",
       "    fig.close_ws(fig, msg);\n",
       "}\n",
       "\n",
       "mpl.figure.prototype.close_ws = function(fig, msg){\n",
       "    fig.send_message('closing', msg);\n",
       "    // fig.ws.close()\n",
       "}\n",
       "\n",
       "mpl.figure.prototype.push_to_output = function(remove_interactive) {\n",
       "    // Turn the data on the canvas into data in the output cell.\n",
       "    var width = this.canvas.width/mpl.ratio\n",
       "    var dataURL = this.canvas.toDataURL();\n",
       "    this.cell_info[1]['text/html'] = '<img src=\"' + dataURL + '\" width=\"' + width + '\">';\n",
       "}\n",
       "\n",
       "mpl.figure.prototype.updated_canvas_event = function() {\n",
       "    // Tell IPython that the notebook contents must change.\n",
       "    IPython.notebook.set_dirty(true);\n",
       "    this.send_message(\"ack\", {});\n",
       "    var fig = this;\n",
       "    // Wait a second, then push the new image to the DOM so\n",
       "    // that it is saved nicely (might be nice to debounce this).\n",
       "    setTimeout(function () { fig.push_to_output() }, 1000);\n",
       "}\n",
       "\n",
       "mpl.figure.prototype._init_toolbar = function() {\n",
       "    var fig = this;\n",
       "\n",
       "    var nav_element = $('<div/>');\n",
       "    nav_element.attr('style', 'width: 100%');\n",
       "    this.root.append(nav_element);\n",
       "\n",
       "    // Define a callback function for later on.\n",
       "    function toolbar_event(event) {\n",
       "        return fig.toolbar_button_onclick(event['data']);\n",
       "    }\n",
       "    function toolbar_mouse_event(event) {\n",
       "        return fig.toolbar_button_onmouseover(event['data']);\n",
       "    }\n",
       "\n",
       "    for(var toolbar_ind in mpl.toolbar_items){\n",
       "        var name = mpl.toolbar_items[toolbar_ind][0];\n",
       "        var tooltip = mpl.toolbar_items[toolbar_ind][1];\n",
       "        var image = mpl.toolbar_items[toolbar_ind][2];\n",
       "        var method_name = mpl.toolbar_items[toolbar_ind][3];\n",
       "\n",
       "        if (!name) { continue; };\n",
       "\n",
       "        var button = $('<button class=\"btn btn-default\" href=\"#\" title=\"' + name + '\"><i class=\"fa ' + image + ' fa-lg\"></i></button>');\n",
       "        button.click(method_name, toolbar_event);\n",
       "        button.mouseover(tooltip, toolbar_mouse_event);\n",
       "        nav_element.append(button);\n",
       "    }\n",
       "\n",
       "    // Add the status bar.\n",
       "    var status_bar = $('<span class=\"mpl-message\" style=\"text-align:right; float: right;\"/>');\n",
       "    nav_element.append(status_bar);\n",
       "    this.message = status_bar[0];\n",
       "\n",
       "    // Add the close button to the window.\n",
       "    var buttongrp = $('<div class=\"btn-group inline pull-right\"></div>');\n",
       "    var button = $('<button class=\"btn btn-mini btn-primary\" href=\"#\" title=\"Stop Interaction\"><i class=\"fa fa-power-off icon-remove icon-large\"></i></button>');\n",
       "    button.click(function (evt) { fig.handle_close(fig, {}); } );\n",
       "    button.mouseover('Stop Interaction', toolbar_mouse_event);\n",
       "    buttongrp.append(button);\n",
       "    var titlebar = this.root.find($('.ui-dialog-titlebar'));\n",
       "    titlebar.prepend(buttongrp);\n",
       "}\n",
       "\n",
       "mpl.figure.prototype._root_extra_style = function(el){\n",
       "    var fig = this\n",
       "    el.on(\"remove\", function(){\n",
       "\tfig.close_ws(fig, {});\n",
       "    });\n",
       "}\n",
       "\n",
       "mpl.figure.prototype._canvas_extra_style = function(el){\n",
       "    // this is important to make the div 'focusable\n",
       "    el.attr('tabindex', 0)\n",
       "    // reach out to IPython and tell the keyboard manager to turn it's self\n",
       "    // off when our div gets focus\n",
       "\n",
       "    // location in version 3\n",
       "    if (IPython.notebook.keyboard_manager) {\n",
       "        IPython.notebook.keyboard_manager.register_events(el);\n",
       "    }\n",
       "    else {\n",
       "        // location in version 2\n",
       "        IPython.keyboard_manager.register_events(el);\n",
       "    }\n",
       "\n",
       "}\n",
       "\n",
       "mpl.figure.prototype._key_event_extra = function(event, name) {\n",
       "    var manager = IPython.notebook.keyboard_manager;\n",
       "    if (!manager)\n",
       "        manager = IPython.keyboard_manager;\n",
       "\n",
       "    // Check for shift+enter\n",
       "    if (event.shiftKey && event.which == 13) {\n",
       "        this.canvas_div.blur();\n",
       "        // select the cell after this one\n",
       "        var index = IPython.notebook.find_cell_index(this.cell_info[0]);\n",
       "        IPython.notebook.select(index + 1);\n",
       "    }\n",
       "}\n",
       "\n",
       "mpl.figure.prototype.handle_save = function(fig, msg) {\n",
       "    fig.ondownload(fig, null);\n",
       "}\n",
       "\n",
       "\n",
       "mpl.find_output_cell = function(html_output) {\n",
       "    // Return the cell and output element which can be found *uniquely* in the notebook.\n",
       "    // Note - this is a bit hacky, but it is done because the \"notebook_saving.Notebook\"\n",
       "    // IPython event is triggered only after the cells have been serialised, which for\n",
       "    // our purposes (turning an active figure into a static one), is too late.\n",
       "    var cells = IPython.notebook.get_cells();\n",
       "    var ncells = cells.length;\n",
       "    for (var i=0; i<ncells; i++) {\n",
       "        var cell = cells[i];\n",
       "        if (cell.cell_type === 'code'){\n",
       "            for (var j=0; j<cell.output_area.outputs.length; j++) {\n",
       "                var data = cell.output_area.outputs[j];\n",
       "                if (data.data) {\n",
       "                    // IPython >= 3 moved mimebundle to data attribute of output\n",
       "                    data = data.data;\n",
       "                }\n",
       "                if (data['text/html'] == html_output) {\n",
       "                    return [cell, data, j];\n",
       "                }\n",
       "            }\n",
       "        }\n",
       "    }\n",
       "}\n",
       "\n",
       "// Register the function which deals with the matplotlib target/channel.\n",
       "// The kernel may be null if the page has been refreshed.\n",
       "if (IPython.notebook.kernel != null) {\n",
       "    IPython.notebook.kernel.comm_manager.register_target('matplotlib', mpl.mpl_figure_comm);\n",
       "}\n"
      ],
      "text/plain": [
       "<IPython.core.display.Javascript object>"
      ]
     },
     "metadata": {},
     "output_type": "display_data"
    },
    {
     "data": {
      "text/html": [
       "<img src=\"data:image/png;base64,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\" width=\"432\">"
      ],
      "text/plain": [
       "<IPython.core.display.HTML object>"
      ]
     },
     "metadata": {},
     "output_type": "display_data"
    }
   ],
   "source": [
    "%matplotlib nbagg\n",
    "\n",
    "print(f\"This is the current backend: {matplotlib.get_backend()}\")\n",
    "# *The* Fundamental Line of matplotlib\n",
    "fig, ax = matplotlib.pyplot.subplots()"
   ]
  },
  {
   "cell_type": "code",
   "execution_count": 4,
   "metadata": {},
   "outputs": [],
   "source": [
    "import matplotlib\n",
    "%matplotlib inline\n",
    "import matplotlib.pyplot as plt"
   ]
  },
  {
   "cell_type": "markdown",
   "metadata": {},
   "source": [
    "#### Axes\n",
    "\n",
    "Why did we need to talk about backends before talking about _The Fundamental Line_ of matplotlib? As you can guess from its name, _The Fundamental Line_ is more important than backends. However, the backend must be set before importing `pyplot`. Once `pyplot` is imported, it is problematic (sometime impossible) to further change the interactive backends using the `matplotlib.use()` function. As the documentation explains, \"Matplotlib may fail to switch the backend and raise an ImportError\". It turns out the magic lines of Ipython works around this problem somehow (but no guarantees they will always work). However, we still had to set the backend to `QT5Agg` as first thing -- since we needed `pyplot` to run _The Fundamental Line_.  \n",
    "\n",
    "Since most of the plotting code is based on the `pyplot` sub-module, it is absolutely common to not even import the rest of matplotlib. Naturally, you will not get access to all of matplotlib powerful functions, but you may not need anything beyond `pyplot`."
   ]
  },
  {
   "cell_type": "code",
   "execution_count": 12,
   "metadata": {
    "scrolled": false
   },
   "outputs": [
    {
     "name": "stdout",
     "output_type": "stream",
     "text": [
      "fig is of type <class 'matplotlib.figure.Figure'>\n",
      "ax is of type <class 'matplotlib.axes._subplots.AxesSubplot'>\n"
     ]
    },
    {
     "data": {
      "image/png": "[encoded data removed]",
      "text/plain": [
       "<Figure size 432x288 with 1 Axes>"
      ]
     },
     "metadata": {
      "needs_background": "light"
     },
     "output_type": "display_data"
    }
   ],
   "source": [
    "# Just reiterating what we did above.\n",
    "# Let us follow this time-honored tradition of importing pyplot as plt\n",
    "import matplotlib.pyplot as plt\n",
    "# The new form of The Fundamental Line, notice the plt\n",
    "fig, ax = plt.subplots()\n",
    "# What are fig and ax?\n",
    "print(f'fig is of type {type(fig)}')\n",
    "print(f'ax is of type {type(ax)}')"
   ]
  },
  {
   "cell_type": "markdown",
   "metadata": {},
   "source": [
    "The Fundamental Line is a call to `plt.subplots()`. The call returns two objects. First, a `Figure` object;  Second an `Axes` object. The `Figure` object is like a container where you put all that you plot. It has parameters such as the _dpi_ (dot per inch) or _figsize_ regulating the size of the entire plot. The `Axes` is like a canvas, on which you can paint. A Figure can have more than one `Axes`, but an `Axes` is always attached to a `Figure`. (Almost) everything you do when you plot is drawing onto of your `Axes`. "
   ]
  },
  {
   "cell_type": "code",
   "execution_count": 13,
   "metadata": {
    "scrolled": true
   },
   "outputs": [
    {
     "name": "stdout",
     "output_type": "stream",
     "text": [
      "fig is of type <class 'matplotlib.figure.Figure'>\n",
      "ax is of type <class 'numpy.ndarray'>\n",
      "This is the (1,1) Axes: <class 'matplotlib.axes._subplots.AxesSubplot'>\n"
     ]
    },
    {
     "data": {
      "image/png": "[encoded data removed]",
      "text/plain": [
       "<Figure size 360x720 with 6 Axes>"
      ]
     },
     "metadata": {
      "needs_background": "light"
     },
     "output_type": "display_data"
    }
   ],
   "source": [
    "# Let's create a bigger Figure with more than one Axes \n",
    "fig, ax = plt.subplots(nrows=3, ncols=2, figsize = (5, 10))\n",
    "# What kind of objects are fig and ax now?\n",
    "print(f'fig is of type {type(fig)}')\n",
    "print(f'ax is of type {type(ax)}')\n",
    "# Access one Axes from the regular grid\n",
    "print(f'This is the (1,1) Axes: {type(ax[1,1])}')"
   ]
  },
  {
   "cell_type": "markdown",
   "metadata": {},
   "source": [
    "If you specify a dimension -- 3 rows, 2 columns, in our case -- `plt.subplots()` creates a grid of `Axes` and store each individual `Axes` inside a numpy `array`. This is the reason we introduced the `array` above.  To access any individual `Axes`, we select an element from the `array`, as seen above. This is not the only way to create multiple `Axes` in the same figure, but we will use only this for the remaining of this workshop.\n",
    "\n",
    "<div class=\"alert alert-block alert-success\">\n",
    "    <b>Multiple Axes in One Figure</b>: The dispositon of Axes within a Figure is very flexible. Matplotlib has different function for the creation of Axes with different sizes and different position inside the Figure. We saw plt.subplots() to create a regular grid of Axes. Other relevant functions are add_subplot(),  <a href=\"https://matplotlib.org/3.3.0/gallery/userdemo/demo_gridspec01.html#sphx-glr-gallery-userdemo-demo-gridspec01-py\">subplot2grid()</a>. <a href=\"https://matplotlib.org/3.1.1/tutorials/intermediate/gridspec.html\">gridspec()</a> and the sub-module <a href=\"https://matplotlib.org/mpl_toolkits/axes_grid/users/overview.html\">AxesGrid</a>\n",
    "</div>\n",
    "            \n",
    "It is unlikely that you want to learn matplotlib in order to create regular grids of empty white plots. So, let's start to populate our `Axes`. Before plotting the data, we will examine those elements that are common to all kinds of plot. This figure, once again from the matplotlib official documentation, shows the main elements of each `Axes`.\n",
    "\n",
    "![anatomy.png](https://matplotlib.org/_images/anatomy.png)"
   ]
  },
  {
   "cell_type": "markdown",
   "metadata": {},
   "source": [
    "Let's start changing some of these parameters. They all are represented in the form of objects that each `Axes` contains -- like an x `axis` object and a y `axis` object. By the way, it is a good time to point out that `Axes` and `axis` are ***completely*** different things. We will learn in a second that these objects (like `axis`) belong to the general `Artist` class. \n",
    "\n",
    "In order to modify these objects, the easiest way is to call a \"setter\" method of the `Axes` object and let it modify things for you.  You can also directly access any of the `Artist` that an `Axes` contains and modify it yourself -- we will learn how to do this. This is much more convoluted in terms of coding, so you want to avoid when possible. As a side note, even the official documentation admits that having \"setter\" methods is not great coding -- python has better ways to do this. Perhaps the syntax will change slightly in the future. But it will do for now. Let's see the most common settings for our `Axes`."
   ]
  },
  {
   "cell_type": "code",
   "execution_count": 14,
   "metadata": {
    "scrolled": true
   },
   "outputs": [
    {
     "data": {
      "image/png": "[encoded data removed]",
      "text/plain": [
       "<Figure size 720x504 with 1 Axes>"
      ]
     },
     "metadata": {
      "needs_background": "light"
     },
     "output_type": "display_data"
    }
   ],
   "source": [
    "# Let's create a simple one-axes figure\n",
    "fig, ax = plt.subplots(figsize=(10,7))\n",
    "# Change the title\n",
    "ax.set_title(\"Hello World\", fontsize=20)\n",
    "# Change the x-axis\n",
    "ax.set_xlim([0,10])\n",
    "ax.set_xlabel(\"The x-axis, from 0 to 10\")\n",
    "# Set the yticks as well. A little more complex\n",
    "ax.set_ylim([-1,1])\n",
    "ax.set_yticks([-.7, -.5, .5])\n",
    "ax.set_yticklabels([\"a\", 'b', 'c'], fontsize=14)\n",
    "ax.set_ylabel(\"Irregular ticks with letter names\", fontsize = 12)\n",
    "# Show the grid\n",
    "ax.grid()"
   ]
  },
  {
   "cell_type": "markdown",
   "metadata": {},
   "source": [
    "Let's continue playing with paramaters a little. Here, I modify the grid appearance. I also move the tick from bottom to top and from left to right. Finally, I do not plot the left and bottom spines."
   ]
  },
  {
   "cell_type": "code",
   "execution_count": 15,
   "metadata": {
    "scrolled": true
   },
   "outputs": [
    {
     "data": {
      "image/png": "[encoded data removed]",
      "text/plain": [
       "<Figure size 432x288 with 1 Axes>"
      ]
     },
     "metadata": {
      "needs_background": "light"
     },
     "output_type": "display_data"
    }
   ],
   "source": [
    "# Let's create a simple one-axes figure\n",
    "fig, ax = plt.subplots()\n",
    "# Let's color grids and ticks\n",
    "ax.grid(color='red', linestyle='-.', linewidth=0.6)\n",
    "# Makes tick longer and more separated from labels. Rotate labels 45 degrees\n",
    "ax.tick_params(length=7, pad=16, labelrotation=45)\n",
    "# Spines separate the data area of the plot from the rest\n",
    "# Do not plot bottom ticks and spines\n",
    "ax.spines['bottom'].set_visible(False)\n",
    "# Do not plot left spines\n",
    "ax.spines['left'].set_visible(False)\n",
    "# Therefore we need to move ticks up!\n",
    "ax.xaxis.set_ticks_position('top')\n",
    "# But make the right very visible\n",
    "ax.spines['right'].set_linewidth(4)\n",
    "# Don't put the yticks at all\n",
    "ax.yaxis.set_ticks_position('right')"
   ]
  },
  {
   "cell_type": "markdown",
   "metadata": {},
   "source": [
    "##### Your Turn\n",
    "\n",
    "Create two subplots in the same row. Name the yaxis and xaxis of both subplots \"x\" and \"y\", respectively. Set the ylim of the first plot from -100 to 100. Set the xlim of the second from -100 to 100. Turn on the grid. Title the first \"Long Y\", title the second \"Long X\". This shows"
   ]
  },
  {
   "cell_type": "code",
   "execution_count": 16,
   "metadata": {
    "scrolled": true
   },
   "outputs": [
    {
     "data": {
      "text/plain": [
       "Text(0.5, 1.0, 'Long X')"
      ]
     },
     "execution_count": 16,
     "metadata": {},
     "output_type": "execute_result"
    },
    {
     "data": {
      "image/png": "[encoded data removed]",
      "text/plain": [
       "<Figure size 432x288 with 2 Axes>"
      ]
     },
     "metadata": {
      "needs_background": "light"
     },
     "output_type": "display_data"
    }
   ],
   "source": [
    "# Create two subplots in one row using The Fundamental Line\n",
    "fig, ax = plt.subplots(ncols=2)\n",
    "# ylim from -100 to 100\n",
    "ax[0].set_ylim([-100, 100])\n",
    "# grid\n",
    "ax[0].grid()\n",
    "# title\n",
    "ax[0].set_title(\"Long Y\")\n",
    "# xlim to -100 to 100\n",
    "ax[1].set_xlim([-100, 100])\n",
    "# grid\n",
    "ax[1].grid()\n",
    "# title\n",
    "ax[1].set_title(\"Long X\")"
   ]
  },
  {
   "cell_type": "markdown",
   "metadata": {},
   "source": [
    "The bottom line of the exercise is that, by default, the x and y-axis can have wildly different scales. Before finally starting plotting data, let's check how to modify this default behavior and few other tricks that may be useful -- like using a logarithm scale, creating one overall title for the entire `Figure` (as opposed to individual titles for each `Axes`), and modifying the vertical (and horizontal) distance between subplots."
   ]
  },
  {
   "cell_type": "code",
   "execution_count": null,
   "metadata": {
    "scrolled": true
   },
   "outputs": [],
   "source": [
    "# Create a figure with one Axes\n",
    "fig, ax = plt.subplots(nrows=2, figsize=(10,5))\n",
    "# Double the span of x\n",
    "ax[0].set_xlim(-1,1)\n",
    "# Put the aspect to 'equal'\n",
    "ax[0].set_aspect('equal')\n",
    "# Now logarithmic scale\n",
    "# 10-times the span of y\n",
    "ax[1].set_ylim(1,100)\n",
    "ax[1].set_yscale(\"log\")\n",
    "# Set the aspect to equal again\n",
    "# Now the axes is twice as tall as wide\n",
    "ax[1].set_aspect('equal')\n",
    "# Put the title to both axes\n",
    "ax[0].set_title('Linear Scale')\n",
    "ax[1].set_title('Logarithmic Scale')\n",
    "# Put an overall title\n",
    "# Notice, this is a method for the fig object, since fig contains everything\n",
    "fig.suptitle(\"Different scales\", fontsize=23)\n",
    "# By default, the vertical distance between the two subplots will result in some overlap\n",
    "# Let's make it larger. As a side notice, the scale of the hspace (or wspace) is a little strange\n",
    "# \"The height of the padding between subplots, as a fraction of the average axes height\"\n",
    "# In practice, it takes some trial and error to find a good value.\n",
    "# BTW, another fig method\n",
    "fig.subplots_adjust(hspace=.4)"
   ]
  },
  {
   "cell_type": "markdown",
   "metadata": {},
   "source": [
    "#### Artists\n",
    "\n",
    "Technically, almost everything we use is an `Artist`. In matplotlib technicalities, an `Artist` is an object that knows how to interact with the backend in order to leave signs on the final figure. Since we have already left various traces in our output, you may corrrectly guess that `Axes`, `Figure`, `axis`, etc. are themselves istances of `Artist`. This is technically correct, but they are a special kinds of artist, who themselves contain other instances of `Artist`. \n",
    "\n",
    "Let's proceed orderly. We can check the properties of any artist with the function `getp()`. Let's do this on a `Figure` object. Exactly as you use \"setter\" functions to modify settings, you can use \"getter\" functions to refer to the many components of a plot."
   ]
  },
  {
   "cell_type": "code",
   "execution_count": 17,
   "metadata": {
    "scrolled": true
   },
   "outputs": [
    {
     "name": "stdout",
     "output_type": "stream",
     "text": [
      "    agg_filter = None\n",
      "    alpha = None\n",
      "    animated = False\n",
      "    axes = [<matplotlib.axes._subplots.AxesSubplot object at ...\n",
      "    children = [<matplotlib.patches.Rectangle object at 0x7f11b6f...\n",
      "    clip_box = None\n",
      "    clip_on = True\n",
      "    clip_path = None\n",
      "    constrained_layout = False\n",
      "    constrained_layout_pads = (0.04167, 0.04167, 0.02, 0.02)\n",
      "    contains = None\n",
      "    default_bbox_extra_artists = [<matplotlib.axes._subplots.AxesSubplot object at ...\n",
      "    dpi = 72.0\n",
      "    edgecolor = (1.0, 1.0, 1.0, 0.0)\n",
      "    facecolor = (1.0, 1.0, 1.0, 0.0)\n",
      "    figheight = 4.0\n",
      "    figure = None\n",
      "    figwidth = 6.0\n",
      "    frameon = True\n",
      "    gid = None\n",
      "    in_layout = True\n",
      "    label = \n",
      "    path_effects = []\n",
      "    picker = None\n",
      "    rasterized = None\n",
      "    size_inches = [6. 4.]\n",
      "    sketch_params = None\n",
      "    snap = None\n",
      "    tight_layout = False\n",
      "    transform = IdentityTransform()\n",
      "    transformed_clip_path_and_affine = (None, None)\n",
      "    url = None\n",
      "    visible = True\n",
      "    window_extent = TransformedBbox(     Bbox(x0=0.0, y0=0.0, x1=6.0, ...\n",
      "    zorder = 0\n",
      "None\n",
      "\n",
      "\n",
      "These are the Axes of fig:\n",
      "[<matplotlib.axes._subplots.AxesSubplot object at 0x7f11b6f26520>]\n",
      "\n",
      "\n",
      "These are the Axes of fig:\n",
      "[<matplotlib.patches.Rectangle object at 0x7f11b6f2be20>, <matplotlib.axes._subplots.AxesSubplot object at 0x7f11b6f26520>]\n"
     ]
    },
    {
     "data": {
      "image/png": "[encoded data removed]",
      "text/plain": [
       "<Figure size 432x288 with 1 Axes>"
      ]
     },
     "metadata": {
      "needs_background": "light"
     },
     "output_type": "display_data"
    }
   ],
   "source": [
    "# We are not interested in actually seeing the figure now. We use .ioff() to turn off plotting\n",
    "plt.ioff()\n",
    "fig, ax = plt.subplots()\n",
    "# .getp() will show you the properties of an artist\n",
    "print(matplotlib.artist.getp(fig))\n",
    "print(f'\\n\\nThese are the Axes of fig:\\n{fig.get_axes()}')\n",
    "print(f'\\n\\nThese are the Axes of fig:\\n{fig.get_children()}')"
   ]
  },
  {
   "cell_type": "markdown",
   "metadata": {},
   "source": [
    "Two noticeable feature. `fig` has an _axes_ property: a list of `Axes`. By now, you will not be surprised to know that this list contains the `ax` object we created alongside `fig`. Second, `fig` also has a _children_ property. This is another list. It contains all `Artist` objects that `fig` contains. We can see it contains a `patches.Rectangle` object alongside `ax`. Let's check it out and play with it a little. \n",
    "\n",
    "We will use the \"setter\" version of `getp()`, `setp()`. Even if you will rarely use it, `setp()` is a key function for matplotlib. It allows you to change substantially every settings of your plot. In a way, `setp()` unleashes the true power of matplotlib: all you did with various \"setter\" functions above -- such as `Axes.set_title()` -- can be replicated with `setp()`. Naturally, the syntax of `setp()` is more complex and less clear to human reader than the syntax of `Axes.set_title()` (and other similar \"setter\" methods). Therefore, you want to avoid using `setp()` when not necessary. Yet, sometimes using `setp()` is unavoidable."
   ]
  },
  {
   "cell_type": "code",
   "execution_count": 18,
   "metadata": {
    "scrolled": true
   },
   "outputs": [
    {
     "name": "stdout",
     "output_type": "stream",
     "text": [
      "This is the rectangle:\n",
      "Rectangle(xy=(0, 0), width=1, height=1, angle=0)\n",
      "\n",
      "\n",
      "    agg_filter = None\n",
      "    alpha = None\n",
      "    animated = False\n",
      "    antialiased or aa = False\n",
      "    bbox = Bbox(x0=0.0, y0=0.0, x1=1.0, y1=1.0)\n",
      "    capstyle = butt\n",
      "    children = []\n",
      "    clip_box = None\n",
      "    clip_on = True\n",
      "    clip_path = None\n",
      "    contains = None\n",
      "    data_transform = BboxTransformTo(     TransformedBbox(         Bbox...\n",
      "    edgecolor or ec = (1.0, 1.0, 1.0, 0.0)\n",
      "    extents = Bbox(x0=0.0, y0=0.0, x1=432.0, y1=288.0)\n",
      "    facecolor or fc = (1.0, 1.0, 1.0, 0.0)\n",
      "    figure = Figure(432x288)\n",
      "    fill = True\n",
      "    gid = None\n",
      "    hatch = None\n",
      "    height = 1\n",
      "    in_layout = False\n",
      "    joinstyle = miter\n",
      "    label = \n",
      "    linestyle or ls = solid\n",
      "    linewidth or lw = 0.0\n",
      "    patch_transform = CompositeGenericTransform(     BboxTransformTo(   ...\n",
      "    path = Path(array([[0., 0.],        [1., 0.],        [1.,...\n",
      "    path_effects = []\n",
      "    picker = None\n",
      "    rasterized = None\n",
      "    sketch_params = None\n",
      "    snap = None\n",
      "    transform = CompositeGenericTransform(     CompositeGenericTra...\n",
      "    transformed_clip_path_and_affine = (None, None)\n",
      "    url = None\n",
      "    verts = [[  0.   0.]  [432.   0.]  [432. 288.]  [  0. 288....\n",
      "    visible = True\n",
      "    width = 1\n",
      "    window_extent = Bbox(x0=0.0, y0=0.0, x1=432.0, y1=288.0)\n",
      "    x = 0\n",
      "    xy = (0, 0)\n",
      "    y = 0\n",
      "    zorder = 1\n",
      "None\n"
     ]
    },
    {
     "data": {
      "text/plain": [
       "[None]"
      ]
     },
     "execution_count": 18,
     "metadata": {},
     "output_type": "execute_result"
    },
    {
     "data": {
      "image/png": "[encoded data removed]",
      "text/plain": [
       "<Figure size 432x288 with 1 Axes>"
      ]
     },
     "metadata": {},
     "output_type": "display_data"
    }
   ],
   "source": [
    "# Turn on plot again\n",
    "plt.ion()\n",
    "fig, ax = plt.subplots()\n",
    "# Select the rectangle as the first element in the children list\n",
    "rect = fig.get_children()[0]\n",
    "print(f'This is the rectangle:\\n{rect}\\n\\n')\n",
    "# Let's check the properties of the rectangle as well\n",
    "print(matplotlib.artist.getp(rect))\n",
    "# We see it has a facecolor (or fc) property. It contains the RGBA coordinates of a color (white in this case)\n",
    "# Let's check out what happens when we change it to grey, RGBA coor. = (0.5, 0.5, 0.5, 1)\n",
    "# To change the coordinate we use the functon .setp()\n",
    "# .setp() is the setter brother of getp(), it allows you to set the properties of an artist\n",
    "plt.setp(rect, facecolor=(0.5, 0.5, 0.5, 1))\n",
    "# A thing of beauty!"
   ]
  },
  {
   "cell_type": "markdown",
   "metadata": {},
   "source": [
    "It turns out `rect` is a rectangle covering the entire surface of `fig` -- albeit in the background. Changing the color of `rect` will change the background color. This is the kind of process happenning behind the scene when we use methods such as `Axes.set_title()`, seen above. However, this is a minor point. This small example showed us two things:\n",
    "\n",
    " - As you just saw, `Figure` is a special kind of `Artist`: it is a container for other `Artist` objects. The same goes for `Axes` (itself contained by a `Figure`) and the two `axis` (themselves contained by an `Axes`). All these objects contain other `Artist` who will then leave traces on the output.\n",
    " \n",
    " - You can be as analytical you want in the way you draw on screen. Indeed, there are different levels of specificity you can use to achieve the same result. Think about this as the difference between asking matplotlib to draw a histogram (we will soon know how) and calculating the height of each bin and then ask matplotlib to draw rectangles of a certain height. For the sake of your own time, you will want to use the functions at the highest level possible while still achieving what you are striving for -- or something close enough :)\n",
    " \n",
    "About the first point, to help conceptual clarity I will use the word `Artist` to refer to those objects that actually leave a trace on the output.\n",
    "\n",
    "About the second point, the rest of this workshop will be dedicated to the exploration of various `Artist`, which will help you draw standard plots such as scatter plots, heatmaps or histograms."
   ]
  },
  {
   "cell_type": "markdown",
   "metadata": {},
   "source": [
    "##### Colors\n",
    "\n",
    "Small and fundamental aside about colors. We have set the color of `rect` to gray using the curios `tuple` (0.5, 0.5, 0.5, 1). Matplotlib interprets this as an RGBA coordinate. Let's examine what this means. The first three number are the amount of red (R), green (G) and blue (B) in the color -- white, black and all gray colors in between have an equal mixture of these primary colors. The fourth value is the so-called _alpha_ value. It determines the transparency of the color. An _alpha_ of 0 corresponds to complete transparency (that is, an invisible object). An _alpha_ of 1 corresponds to a completely solid object. Anything in between will create a semi-transparent object. \n",
    "\n",
    "Alongisde RGBA coordinates, matplotlib accepts other ways to specify colors. You can find more details in <a href=\"https://matplotlib.org/3.2.2/gallery/color/color_demo.html>https://matplotlib.org/3.2.2/gallery/color/color_demo.html\">the documentation</a>. In this workshop, we will only use RGBA coordinates and color keywords -- see <a href=https://matplotlib.org/3.2.2/gallery/color/named_colors.html>here</a> for a complete list of color keywords.\n",
    "\n",
    "<div class=\"alert alert-block alert-success\">\n",
    "    <b>Color Models</b>: The RGBA coordinate color scheme is in no way the only possible way to create a reference system for colors. Other popular options are the <a href=https://en.wikipedia.org/wiki/HSL_and_HSV>Hue-Saturation-Light model</a>, the <a href=https://en.wikipedia.org/wiki/HSL_and_HSV>Hue-Saturation-Value system</a>, the <a href=https://en.wikipedia.org/wiki/Web_colors>hexadecimal model</a>, the <a href=https://en.wikipedia.org/wiki/CMYK_color_model>Ciano-Magenta-Yellow-Black model</a> and the <a href=https://en.wikipedia.org/wiki/CIELAB_color_space>CIELAB model</a>. Each model emphasizes different characteristics of colors and it is helpful in its own way. Matplotlib supports the Hue-Saturation-Value system in its sub-module color.\n",
    "    </div>"
   ]
  },
  {
   "cell_type": "markdown",
   "metadata": {},
   "source": [
    "#### Try it\n",
    "\n",
    "Any `Axes` object has a background rectangular patch exactly as the rectangular patch `Figure` contains. Try to change its color to \"red\" or, in RGBA coordinates, `(1, 0, 0, 1).` "
   ]
  },
  {
   "cell_type": "code",
   "execution_count": null,
   "metadata": {
    "scrolled": true
   },
   "outputs": [],
   "source": [
    "# Create the figure and axes using The Fundamental Line\n",
    "fig, ax\n",
    "# Get the axes properties. You will notice there is a children list (exactly as in Figure)\n",
    "print(matplotlib.artist.getp(ax))\n",
    "# The rectangular patch we look for is the last in the children list\n",
    "rect = ax.get_children()[-1]\n",
    "# use plt.setp() Set the color to red\n"
   ]
  },
  {
   "cell_type": "markdown",
   "metadata": {},
   "source": [
    "### Plotting Data\n",
    "\n",
    "It is finally time to get busy plotting some data. We will use the name dataset introduced above. We start with a simple question: is the name \"Barack\" getting more popular since 2008 -- the year Obama was first elected as President of the United States?\n",
    "\n",
    "<div class=\"alert alert-block alert-success\">\n",
    "    <b>Different Styles</b>: Matplotlib was originally inspired by MATLAB plotting style. The sub-module Pyplot is originally intended to provide a MATLAB plotting experience within the Python environment. However, this is not the only way to use Matplotlib. It is possible to use matplotlib in a more pythonic, Object-Oriented (OO) style. Such OO style is what we will use in the workshop, as reccomended. As we shall see, it is mostly based on calling helper methods of the Axes class. For an overview of the MATLAB plotting style, see <a href=\"https://matplotlib.org/tutorials/introductory/pyplot.html\">this tutorial</a>.\n",
    "    </div>\n",
    "    \n",
    "Let's start by creating a new `DataFrame` -- named `barack` -- containing information on the use of the name `barack` in the US."
   ]
  },
  {
   "cell_type": "code",
   "execution_count": 9,
   "metadata": {
    "scrolled": true
   },
   "outputs": [
    {
     "name": "stdout",
     "output_type": "stream",
     "text": [
      "First five lines of barack:\n",
      "      Unnamed: 0       Id  Count  Year\n",
      "Year                                  \n",
      "2007     1586035  1586036      5  2007\n",
      "2008     1610732  1610733     52  2008\n",
      "2009     1645079  1645080     69  2009\n",
      "2010     1681104  1681105     28  2010\n",
      "2011     1716858  1716859     15  2011\n"
     ]
    }
   ],
   "source": [
    "# First let's create the data we will plot. This is about pandas. Don't worry too much\n",
    "# We convert to numpy for safety, but it is not necessary to be fair to pandas\n",
    "# barack data\n",
    "barack = names.loc[names[\"Name\"] == \"Barack\", :]\n",
    "# Number of newborns named barack in the years.\n",
    "# This sum the two genders into one cell and only retain years where there are enough Baracks\n",
    "barack = barack.groupby(['Year']).sum()\n",
    "# Relevant years\n",
    "years  = barack.index.to_frame()['Year'].to_numpy()\n",
    "barack['Year'] = years\n",
    "# This will get us the values to be plotted\n",
    "print(f'First five lines of barack:\\n{barack.head()}')"
   ]
  },
  {
   "cell_type": "markdown",
   "metadata": {},
   "source": [
    "Now that we have put the data into a convenient format, we can plot."
   ]
  },
  {
   "cell_type": "code",
   "execution_count": 6,
   "metadata": {
    "scrolled": false
   },
   "outputs": [
    {
     "data": {
      "text/plain": [
       "Text(0, 0.5, 'Number of newborns named \"Obama\"')"
      ]
     },
     "execution_count": 6,
     "metadata": {},
     "output_type": "execute_result"
    },
    {
     "data": {
      "image/png": "[encoded data removed]",
      "text/plain": [
       "<Figure size 720x576 with 1 Axes>"
      ]
     },
     "metadata": {
      "needs_background": "light"
     },
     "output_type": "display_data"
    }
   ],
   "source": [
    "# Our first plot.\n",
    "# The Fundamental Line\n",
    "fig, ax = plt.subplots(figsize= (10,8))\n",
    "ax.plot(barack['Year'], barack['Count'])\n",
    "# Usual settings, we saw this above\n",
    "ax.set_title('The Obama Effect')\n",
    "ax.set_xlabel('Year')\n",
    "ax.set_ylabel('Number of newborns named \"Obama\"')\n",
    "# Now correlation is not causation, but c'mon"
   ]
  },
  {
   "cell_type": "markdown",
   "metadata": {},
   "source": [
    "Ok, let's learn few tricks. First, let's set non-default linetype, linewidth and color for the data we plot. Second, let's add two new elements to the plot. A vertical line signalling when Obama won the 2008 Super-Tuesday nomination and another line signaling when Obama won the election. We use the `Axes` helper method `axvline()` to draw the vertical lines."
   ]
  },
  {
   "cell_type": "code",
   "execution_count": 10,
   "metadata": {
    "scrolled": false
   },
   "outputs": [
    {
     "data": {
      "text/plain": [
       "<matplotlib.lines.Line2D at 0x7fbfdb135be0>"
      ]
     },
     "execution_count": 10,
     "metadata": {},
     "output_type": "execute_result"
    },
    {
     "data": {
      "image/png": "[encoded data removed]",
      "text/plain": [
       "<Figure size 720x576 with 1 Axes>"
      ]
     },
     "metadata": {
      "needs_background": "light"
     },
     "output_type": "display_data"
    }
   ],
   "source": [
    "# The Fundamental Line\n",
    "fig, ax = plt.subplots(figsize= (10,8))\n",
    "# We choose the keyword color darkgreen, a different linestyle and a thicker tract\n",
    "ax.plot(barack['Year'], barack['Count'], color='darkgreen', linestyle=\"-.\", linewidth=3)\n",
    "# Usual settings, we saw this above\n",
    "ax.set_title('The Obama Effect')\n",
    "ax.set_xlabel('Year')\n",
    "ax.set_ylabel('Number of newborns named \"Obama\"')\n",
    "# To create a vertical line we need to calculate where to put it.\n",
    "# Supertuesday was at the beginning of Feb. 2008\n",
    "super_tuesday = 1/12 + 2008\n",
    "# Election was at the beginning of Nov. 2008\n",
    "election = 10/12 + 2008\n",
    "# Create the two vertical lines. We make them less noticeable with stylistic choices\n",
    "# Super-Tuesday\n",
    "ax.axvline(x=super_tuesday, color=(0.5,0.5,0.5,1), linewidth=1.3, linestyle=\"--\")\n",
    "# election \n",
    "ax.axvline(x=election, color=(0.5,0.5,0.5,1), linewidth=1.3, linestyle=\"--\")"
   ]
  },
  {
   "cell_type": "markdown",
   "metadata": {},
   "source": [
    "This is the general principle we will follow: to plot data you call methods of the `Axes` object. Following the same principle, we can plot and compare different data in the same `Axes`. Let's compare the \"Obama\" effect with the \"Reagan\" effect on first names. To make things more readable, we will drop the super-Tuesday line (but we will left election lines) and we will add a legend.\n",
    "\n",
    "First, create a second `DataFrame`, named `ronald`, to collect data about the use of the name \"Ronald\" in the US."
   ]
  },
  {
   "cell_type": "code",
   "execution_count": 11,
   "metadata": {},
   "outputs": [
    {
     "name": "stdout",
     "output_type": "stream",
     "text": [
      "First five lines of ronald:\n",
      "      Unnamed: 0       Id  Count  Year\n",
      "Year                                  \n",
      "1965     1275713  1275715  17697  1965\n",
      "1966     1299520  1299522  17043  1966\n",
      "1967     1323943  1323945  16542  1967\n",
      "1968     1349229  1349231  15515  1968\n",
      "1969     1375599  1375601  14711  1969\n"
     ]
    }
   ],
   "source": [
    "# First, let's create the data for Ronald. Substantially, the same lines as before\n",
    "ronald = names.loc[names[\"Name\"] == \"Ronald\", :]\n",
    "# Relevant years\n",
    "ronald = ronald.groupby(['Year']).sum()\n",
    "years_ronald = ronald.index.to_frame()['Year'].to_numpy()\n",
    "ronald['Year'] = years_ronald\n",
    "print(f'First five lines of ronald:\\n{ronald.head()}')"
   ]
  },
  {
   "cell_type": "markdown",
   "metadata": {},
   "source": [
    "Now we plot the two dataset in the same `Axes`."
   ]
  },
  {
   "cell_type": "code",
   "execution_count": 12,
   "metadata": {
    "scrolled": false
   },
   "outputs": [
    {
     "data": {
      "text/plain": [
       "<matplotlib.legend.Legend at 0x7fbfd9ef1af0>"
      ]
     },
     "execution_count": 12,
     "metadata": {},
     "output_type": "execute_result"
    },
    {
     "data": {
      "image/png": "[encoded data removed]",
      "text/plain": [
       "<Figure size 720x576 with 1 Axes>"
      ]
     },
     "metadata": {
      "needs_background": "light"
     },
     "output_type": "display_data"
    }
   ],
   "source": [
    "# The Fundamental Line\n",
    "fig, ax = plt.subplots(figsize= (10,8))\n",
    "# Usual settings, we saw this above\n",
    "ax.set_title('Reagan Vs. Obama Effect')\n",
    "ax.set_xlabel('Year')\n",
    "ax.set_ylabel('Number of newborns named as the President')\n",
    "# To create a vertical line we need to calculate where to put it.\n",
    "# 2008 Election was at the beginning of Nov. 2008\n",
    "election_2008 = 10/12 + 2008\n",
    "# 1980 Election was at the beginning of Nov. 1980\n",
    "election_1980 = 10/12 + 1980\n",
    "# Draw the two vertical lines.\n",
    "ax.axvline(x=election_2008, color=(0, 0, 1, 0.5), linewidth=1.3, linestyle=\"--\")\n",
    "# election \n",
    "ax.axvline(x=election_1980, color=(1, 0, 0,1), linewidth=1.3, linestyle=\"--\")\n",
    "# Notice the label argument\n",
    "ax.plot(ronald['Year'], ronald['Count'], color='red', linestyle=\"-.\", linewidth=3, label = 'Reagan')\n",
    "ax.plot(barack['Year'], barack['Count'], color='blue', linestyle=\"-.\", linewidth=3, label = 'Obama')\n",
    "# Now the legend\n",
    "ax.legend(loc='upper right')"
   ]
  },
  {
   "cell_type": "markdown",
   "metadata": {},
   "source": [
    "Even if this is no scientific proof, I would suggets there is no Reagan effect. But there might be an Obama effect. \n",
    "\n",
    "Let's finalize the plot with some little final touches. We will put it on a log scale -- as you will see, makes everything clearer. We will also use another _style_. A _style_ is a coherent series of stylistic choices for your plots. When you switch _style_ , you change many default settings of matplotlib all at once. For example, you may change the default font for the axis labels and titles while also setting the grid to be always present. Finally, we will save the plot in an external file -- using a hard-backed. We should be proud of our plot.\n",
    "\n",
    "Newborns named after presidents looks like a kind of topic you can find on <a href=\"https://fivethirtyeight.com/\">fivethirtyeight.com</a>. So we will use their style, which is readily available in matplotlib pre-installed library of styles. It goes without saying, you can <a href=\"https://matplotlib.org/3.1.1/tutorials/introductory/customizing.html\">create and save your own style</a> or download styles from the internet."
   ]
  },
  {
   "cell_type": "code",
   "execution_count": 13,
   "metadata": {
    "scrolled": false
   },
   "outputs": [
    {
     "name": "stdout",
     "output_type": "stream",
     "text": [
      "These are the available styles in your matplotlib:\n",
      "['Solarize_Light2', '_classic_test_patch', 'bmh', 'classic', 'dark_background', 'fast', 'fivethirtyeight', 'ggplot', 'grayscale', 'seaborn', 'seaborn-bright', 'seaborn-colorblind', 'seaborn-dark', 'seaborn-dark-palette', 'seaborn-darkgrid', 'seaborn-deep', 'seaborn-muted', 'seaborn-notebook', 'seaborn-paper', 'seaborn-pastel', 'seaborn-poster', 'seaborn-talk', 'seaborn-ticks', 'seaborn-white', 'seaborn-whitegrid', 'tableau-colorblind10']\n",
      "\n",
      "\n"
     ]
    },
    {
     "data": {
      "image/png": "[encoded data removed]",
      "text/plain": [
       "<Figure size 720x576 with 1 Axes>"
      ]
     },
     "metadata": {},
     "output_type": "display_data"
    }
   ],
   "source": [
    "print(f\"These are the available styles in your matplotlib:\\n{plt.style.available}\\n\\n\")\n",
    "plt.style.use('fivethirtyeight')\n",
    "fig, ax = plt.subplots(figsize= (10,8))\n",
    "# Usual settings, we saw this above\n",
    "ax.set_title('Reagan Vs. Obama Effect')\n",
    "ax.set_xlabel('Year')\n",
    "ax.set_ylabel('Number of newborns named as the President')\n",
    "# Draw the two vertical lines.\n",
    "ax.axvline(x=election_2008, color=(0, 0, 1, 0.5), linewidth=1.3, linestyle=\"--\")\n",
    "# election \n",
    "ax.axvline(x=election_1980, color=(1, 0, 0,1), linewidth=1.3, linestyle=\"--\")\n",
    "# Notice the argument label!\n",
    "ax.plot(ronald['Year'], ronald['Count'], color='red', linestyle=\"-.\", linewidth=3, label = 'Reagan')\n",
    "ax.plot(barack['Year'], barack['Count'], color='blue', linestyle=\"-.\", linewidth=3, label = 'Obama')\n",
    "# Now the legend\n",
    "ax.legend(loc='upper right')\n",
    "# Change y-scale\n",
    "ax.set_yscale(\"log\")\n",
    "# Save it\n",
    "# These are the available file-formats (they are less than you may expect)\n",
    "fig.canvas.get_supported_filetypes()\n",
    "# We use the well-known png format.\n",
    "plt.savefig('like_nate.png', dpi=200)\n",
    "# Go back to default style\n",
    "plt.style.use('default')"
   ]
  },
  {
   "cell_type": "markdown",
   "metadata": {},
   "source": [
    "#### Now You: Nancy Vs Michelle\n",
    "\n",
    "My advisor really loved the Obama vs. Reagan Effect plot. Now, she wants to see if there is anything like a first-lady effect. Let's compare the number of newborns named like Nancy Reagan and Michelle Obama overtime. A small twist, my advisor really wants me to use `R`. No way. I will just use the \"ggplot\" style of matplotlib and pretend I used `R`. The `ggplot` style makes your plots looks like they were created using _ggplot2_ in `R`.\n",
    "\n",
    "First let us create the data to plot. As before, this is really just pandas. Don't worry."
   ]
  },
  {
   "cell_type": "code",
   "execution_count": 14,
   "metadata": {
    "scrolled": false
   },
   "outputs": [
    {
     "name": "stdout",
     "output_type": "stream",
     "text": [
      "First five lines of nancy:\n",
      "      Unnamed: 0       Id  Count  Year\n",
      "Year                                  \n",
      "1965     1275582  1275584  12295  1965\n",
      "1966     1299863  1299865  11751  1966\n",
      "1967     1324228  1324230  10301  1967\n",
      "1968     1349370  1349372   8993  1968\n",
      "1969     1375756  1375758   7936  1969\n",
      "First five lines of michelle:\n",
      "      Unnamed: 0       Id  Count  Year\n",
      "Year                                  \n",
      "1965     1275402  1275404  16268  1965\n",
      "1966     1299118  1299120  27245  1966\n",
      "1967     1323595  1323597  30932  1967\n",
      "1968     1348691  1348693  33345  1968\n",
      "1969     1375072  1375074  34457  1969\n"
     ]
    }
   ],
   "source": [
    "# Create the relevant data using pandas.\n",
    "# Nancy data\n",
    "nancy = names.loc[names[\"Name\"] == \"Nancy\", :]\n",
    "# Relevant years\n",
    "nancy = nancy.groupby(['Year']).sum()\n",
    "years_nancy = nancy.index.to_frame()['Year'].to_numpy()\n",
    "nancy['Year'] = years_nancy\n",
    "print(f'First five lines of nancy:\\n{nancy.head()}')\n",
    "\n",
    "# Michelle data\n",
    "michelle = names.loc[names[\"Name\"] == \"Michelle\", :]\n",
    "# Relevant years\n",
    "michelle = michelle.groupby(['Year']).sum()\n",
    "# print(ronald.index.get_locs('M'))\n",
    "years_michelle = michelle.index.to_frame()['Year'].to_numpy()\n",
    "michelle['Year'] = years_michelle\n",
    "print(f'First five lines of michelle:\\n{michelle.head()}')"
   ]
  },
  {
   "cell_type": "markdown",
   "metadata": {},
   "source": [
    "The `DataFrame` `michelle` now contains the number of newborns named 'Michelle' in the US in each year. The `DataFrame` `nancy` contains the number of newborns named 'Nancy' in the US in each year.\n",
    "\n",
    "Now, use these data to create a plot similar to the Reagan Vs Obama Effect Plot above. Let's also save the plot."
   ]
  },
  {
   "cell_type": "code",
   "execution_count": 15,
   "metadata": {
    "scrolled": false
   },
   "outputs": [
    {
     "data": {
      "image/png": "[encoded data removed]",
      "text/plain": [
       "<Figure size 1000x800 with 1 Axes>"
      ]
     },
     "metadata": {},
     "output_type": "display_data"
    }
   ],
   "source": [
    "# Don't forget to use the style 'ggplot', otherwise my advisor will get me\n",
    "plt.style.use('ggplot')\n",
    "\n",
    "fig, ax = plt.subplots(figsize= (10,8))\n",
    "# Find a good title and put it on the plot\n",
    "ax.set_title('Reagan Vs. Obama Effect')\n",
    "# Set the x label to 'Year'\n",
    "ax.set_xlabel('Year')\n",
    "# Set the y label to Number of newborns named as the First Lady\n",
    "ax.set_ylabel('Number of newborns named as the First Lady')\n",
    "# Draw the two vertical lines. They x value for them is still saved \n",
    "# in the two variables election_2008 and election_1980\n",
    "ax.axvline(x=election_2008, color=(0, 0, 1, 0.5), linewidth=1.3, linestyle=\"--\")\n",
    "# election \n",
    "ax.axvline(x=election_1980, color=(1, 0, 0,1), linewidth=1.3, linestyle=\"--\")\n",
    "# Plot the Nancy data. Don't forget the label!\n",
    "ax.plot(nancy['Year'], nancy['Count'], color='red', linestyle=\"-.\", linewidth=3, label = 'Reagan')\n",
    "# Plot the Michelle data. Don't forget the label!\n",
    "ax.plot(michelle['Year'], michelle['Count'], color='blue', linestyle=\"-.\", linewidth=3, label = 'Obama')\n",
    "# Now create a legend\n",
    "ax.legend(loc='upper right')\n",
    "# Change y-scale\n",
    "ax.set_yscale(\"log\")\n",
    "# Save it as 'first_lady.png'\n",
    "plt.savefig('first_lady.png', dpi=200)\n",
    "# Go back to default style\n",
    "plt.style.use('default')"
   ]
  }
 ],
 "metadata": {
  "celltoolbar": "Raw Cell Format",
  "kernelspec": {
   "display_name": "Python 3",
   "language": "python",
   "name": "python3"
  },
  "language_info": {
   "codemirror_mode": {
    "name": "ipython",
    "version": 3
   },
   "file_extension": ".py",
   "mimetype": "text/x-python",
   "name": "python",
   "nbconvert_exporter": "python",
   "pygments_lexer": "ipython3",
   "version": "3.8.6"
  }
 },
 "nbformat": 4,
 "nbformat_minor": 4
}
