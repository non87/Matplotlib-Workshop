{
 "cells": [
  {
   "cell_type": "markdown",
   "metadata": {},
   "source": [
    "# Introduction to Matplotlib. Part 2\n",
    "\n",
    "Welcome back. This is the second part of the Data Visualization with Matplotlib Workshop. Last time we learned the basics of how matplotlib works. Today, we will be focusing on applying those basics concepts to create different kinds of plots. We will be focusing on\n",
    "\n",
    " - Scatter plots \n",
    " - Lines with Errors\n",
    " - Barplots\n",
    " - Histograms\n",
    " - Pictures (like photographs)\n",
    " - Heatmaps\n",
    " - Contour plots\n",
    "\n",
    "Lot of ground to cover, but you will see that the basic syntax is always the same.\n",
    "\n",
    "We will mostly be using the Baby Name Dataset introduced yesterday. As a reminder, it shows the number of newborns with a given name in each year starting from 1965. Let's load the data and start."
   ]
  },
  {
   "cell_type": "code",
   "execution_count": null,
   "metadata": {
    "scrolled": true
   },
   "outputs": [],
   "source": [
    "import pandas as pd\n",
    "import numpy as np\n",
    "\n",
    "# Read the name data from a csv\n",
    "#names = pd.read_csv('national_reduced.csv')\n",
    "name_data_url = r'https://raw.githubusercontent.com/non87/Matplotlib-Workshop/master/national_reduced.csv?token=AFYWZVENRVVF2JPOG6XTWFK7ELZA4'\n",
    "names = pd.read_csv(name_data_url)\n",
    "# Look at the column names and data type\n",
    "print(f'{names.info()}')"
   ]
  },
  {
   "cell_type": "markdown",
   "metadata": {},
   "source": [
    "### Scatter Plots (and Their Parameters)\n",
    "\n",
    "Using the definition of _scatter plot_ that Google suggests, \"A scatter plot uses dots to represent values for two different numeric variables\". They are mostly used to study how two variables co-vary together. For example, you can plot time and number of newborns with a given name. \n",
    "\n",
    "We will analyze the use of \"Morgan\" and \"Taylor\" over time. We start by constructing two pandas `DataFrame` containing the total number o"
   ]
  },
  {
   "cell_type": "code",
   "execution_count": null,
   "metadata": {
    "scrolled": true
   },
   "outputs": [],
   "source": [
    "# Morgan and taylor data\n",
    "morgan = names.loc[names[\"Name\"] == \"Morgan\", :]\n",
    "taylor = names.loc[names[\"Name\"] == \"Taylor\", :]\n",
    "# Relevant years\n",
    "years_morgan = morgan['Year'].unique()\n",
    "years_taylor = taylor['Year'].unique()\n",
    "# For each year, we get the proportion of newborns named morgan/taylor who is F\n",
    "# We first construct a DataFrame containing the number of girls and total newborns for each year for Morgan\n",
    "morgan = pd.DataFrame({\"Girls\": morgan.loc[morgan['Gender'] == \"F\", :].groupby(['Year']).sum()['Count'], 'Total': morgan.groupby(['Year']).sum()['Count']})\n",
    "# Same for Taylor\n",
    "taylor = pd.DataFrame({\"Girls\": taylor.loc[taylor['Gender'] == \"F\", :].groupby(['Year']).sum()['Count'], 'Total': taylor.groupby(['Year']).sum()['Count']})\n",
    "# Get the proportions\n",
    "morgan['Proportion'] = morgan['Girls'] / morgan['Total']\n",
    "taylor['Proportion'] = taylor['Girls'] / taylor['Total']\n",
    "# The years are there as the index in the two DataFrame. It is convenient to have the years as columns\n",
    "morgan['Year'] = morgan.index\n",
    "taylor['Year'] = taylor.index\n",
    "print(f\"This is how the Morgan data looks like:\\n\\n{morgan.head()}\")"
   ]
  },
  {
   "cell_type": "markdown",
   "metadata": {},
   "source": [
    "We start with plotting both the Morgan and the Taylor data in the same plot. This will work as a quick recap of what we did yesterday. Besides the use of the method `scatter()` , the next code block does not introduce anything new."
   ]
  },
  {
   "cell_type": "code",
   "execution_count": null,
   "metadata": {
    "scrolled": false
   },
   "outputs": [],
   "source": [
    "# Let's not forget to set the backend and load matplotlib \n",
    "%matplotlib nbagg\n",
    "import matplotlib.pyplot as plt\n",
    "import matplotlib\n",
    "\n",
    "# The fundamental line\n",
    "fig, ax = plt.subplots(figsize=(10,8))\n",
    "# Usual settings\n",
    "ax.set_title('Use of Taylor and Morgan Over Time')\n",
    "ax.set_xlabel('Year')\n",
    "ax.set_ylabel('Number of Babies with a Given Name')\n",
    "# Now the scatter plot. The syntax is very similar to the syntax of .plot()\n",
    "ax.scatter(morgan['Year'], morgan['Total'], color = 'red', label = 'Morgan')\n",
    "ax.scatter(taylor['Year'], taylor['Total'], color = 'blue', label = 'Taylor')\n",
    "# Legend and grid\n",
    "ax.legend(loc='upper left')\n",
    "ax.grid(color=(0.5,0.5,0.5,0.2), axis='y', lw=0.25)"
   ]
  },
  {
   "cell_type": "markdown",
   "metadata": {},
   "source": [
    "The sytnax and final result of `.scatter()` are very similar to the syntax and final result of `.plot()`, which we saw last time. Then, why should you bother about `.scatter()`? Well, scatter plots actually have ways to plot a third variable, while still remaining 2-d plots. So far, we have colored our points to distinguish the Morgan data from the Taylor data. We can use color to specify the proportion of girls among the babies. Alternatively, we can use the dimension of the markers to communicate how many newborns have a certain name. We will do both orderly. \n",
    "\n",
    "As a side note, it is possible to use both colors and marker-size to enanche your scatter plot. This way, you could show four dimensions in a single, 2-dimensional plot. This sounds great on paper, but this strategy risks overloading the plot with too much information. \n",
    "\n",
    "Let's start with the proportion of girls through colors. We will use the all-important `c` argument of `.scatter()` to provide the proportion-of-girls data. We will also indicate a predifined colormap with the argument `cmap`. You can find a list of all available colormaps in <a href=\"https://matplotlib.org/3.1.1/tutorials/colors/colormaps.html\">the official documentation</a>. However, we will also learn how to construct our own colormap. We will also use different kinds of marker. See <a href=\"https://matplotlib.org/3.1.1/api/markers_api.html\">this documentation page</a> for a complete list of the available markers.\n",
    "\n",
    "<div class=\"alert alert-block alert-success\">\n",
    "    <b>Reverse the Colormap</b>: In addition to the colormap shown in <a href=\"https://matplotlib.org/3.1.1/tutorials/colors/colormaps.html\">the official documentation</a>, you can add \"_r\" to the name of a colormap to obtain its reverse. For example, the original colormap \"spring\" spans from dark blue to yellow. In the code below, I use the colormap \"spring_r\", spanning from yellow to blue.\n",
    "    </div>"
   ]
  },
  {
   "cell_type": "code",
   "execution_count": null,
   "metadata": {
    "scrolled": false
   },
   "outputs": [],
   "source": [
    "# Same plot as before, but we also need to distinguish the two series of data using different kinds of points.\n",
    "# The fundamental line\n",
    "fig, ax = plt.subplots(figsize=(10,8))\n",
    "# Exactly as before\n",
    "ax.set_title('Use of Taylor and Morgan Over Time')\n",
    "ax.set_xlabel('Year')\n",
    "ax.set_ylabel('Number of Babies with a Given Name')\n",
    "# Now the scatter plot. notice the new arguments:\n",
    "# marker: what kind of marker the data series uses\n",
    "# c: color in proportion to a variable\n",
    "# cmap: what color map to use for c\n",
    "# We delete the color argument (it is incompatible with the c argument)\n",
    "ax.scatter(morgan['Year'], morgan['Total'], c = morgan['Proportion'], label = 'Morgan', marker = 's', cmap='spring_r')\n",
    "ax.scatter(taylor['Year'], taylor['Total'], c = taylor['Proportion'], label = 'Taylor', marker = 'v', cmap='spring_r')\n",
    "# Legend and grid\n",
    "ax.legend(loc='upper left')\n",
    "ax.grid(color=(0.5,0.5,0.5,0.2), axis='y', lw=0.25)"
   ]
  },
  {
   "cell_type": "markdown",
   "metadata": {},
   "source": [
    "Ok, we will come back to the previous plot in the extra section below -- it is a little more complex, so it is \"extra\". For the moment, let's focus on the markers' sizes and how to modify them. Here we will use the _s_ argument of `scatterplot()`. However, it makes sense to invert the way the information is presented. On the y-axis we will have the proportion of newborns who are girls. The size of the markers will represent how many newbors are given the name \"Morgan\" (\"Taylor\") each year."
   ]
  },
  {
   "cell_type": "code",
   "execution_count": null,
   "metadata": {},
   "outputs": [],
   "source": [
    "# The usual\n",
    "fig, ax = plt.subplots(figsize=(12,8))\n",
    "ax.set_title('Use of Taylor and Morgan Over Time')\n",
    "ax.set_xlabel('Year')\n",
    "# Now the change starts\n",
    "ax.set_ylabel('Proportion of Girls')\n",
    "ax.set_ylim([0,1])\n",
    "# Now the scatter plot. notice the new arguments:\n",
    "# s: size of the marker\n",
    "ax.scatter(morgan['Year'], morgan['Proportion'], s = morgan['Total']/60, label = 'Morgan', color = 'red')\n",
    "ax.scatter(taylor['Year'], taylor['Proportion'], s = taylor['Total']/60, label = 'Taylor', color = 'blue')\n",
    "# ax.scatter(taylor['Year'], taylor['Total'], c = taylor['Proportion'], label = 'Taylor', marker = 'v', cmap='spring_r')\n",
    "# # Legend and grid\n",
    "ax.legend(loc='upper left')\n",
    "ax.grid(color=(0.5,0.5,0.5,0.2), axis='y', lw=0.25)"
   ]
  },
  {
   "cell_type": "markdown",
   "metadata": {},
   "source": [
    "#### Exercise\n",
    "\n",
    "Putting time on the x-axis usually helps to make the plot readable. Let's check if this holds true in our case. Create a new scatter plot from the Morgan data. Put the Total on the x-axis and the proportion on the y-axis. Use color to signify the year. Experiment with a new colormap: choose a new cmap <a href=\"https://matplotlib.org/3.1.1/gallery/color/colormap_reference.html\">here</a>. "
   ]
  },
  {
   "cell_type": "code",
   "execution_count": null,
   "metadata": {},
   "outputs": [],
   "source": [
    "# Create a figure and and an Axes with the fundamental line\n",
    "fig, ax = \n",
    "# Put \"Use of Morgan\" as a title\n",
    "ax.\n",
    "# Use \"Total Babies Named Morgan\" as the x label\n",
    "ax.\n",
    "# Use \"Proportion of Girls\" as the y label\n",
    "ax.\n",
    "# Set the y limits from 0 to 1\n",
    "ax.\n",
    "# Now the scatter plot. Use\n",
    "# x-axis: morgan['total']\n",
    "# y-axis: morgan['Proportion']\n",
    "# color: morgan['Year']\n",
    "ax.\n",
    "ax."
   ]
  },
  {
   "cell_type": "markdown",
   "metadata": {},
   "source": [
    "##### Extra: Colorbars, Colormaps and How to Personalize It\n",
    "\n",
    "One of the plots above used color to show the proportion of girls in each year. However, it is clearly missing something: we need a color scale to tell us what the colors in the plot actually means. Let's introduce a new method of a `Figure`, `.colorbar()`. This method creates a legend for the colorcode you use in an image (or a specific `Artist` within an `Axes`). Unfortunately, the code to use this method is surprisingly complex. In my humble opionion, this is not well documented. Therefore, let's take the time to look at how to do this properly. \n",
    "\n",
    "Let's examine the two main arguments that the `.colorbar()` method takes:\n",
    "\n",
    "- The first argument of `.colorbar()` is an object of the class `matplotlib.cm.ScalarMappable` or an `Artist`. Internally, matplotlib always construct `ScalarMappable` anyway. Let's see what this is about:\n",
    "  - A `ScalarMappable` maps numerical values to coordinates in the RGBA space. In practice, you input a number and it outputs a color. It has two basic components that you need to specify:\n",
    "    - First, you need to specify a normalizer. This will be an object of the type `cm.colors.Normalize()`. This object has two main argument, _vmin_ and _vmax_. These arguments specify the lowest (highest) numerical values that you need to map to RGBA coordinates -- they map onto the extremes of your colormap. The `cm.colors.Normalize()` object transforms scalar numbers between _vmin_ and _vmax_ into scalars between 0 and 1 -- as the name suggests, the object actually normalizes the input! \n",
    "    - Second, you need to specify a _cmap_. You can both pass your own personalized _cmap_ , or simply a keyword corresponding to the pre-installed color maps in matplotlib.\n",
    "  - The second main parameter is a `cax`. When you create a `.colorbar()` you need to make room for it -- that is, you need a new `Axes` attached to your original figure. At the same time, you probably need to re-size the extant `Axes`. I show you the way I do this in my code by using the toolkit `axes_grid1`, which is a powerful tool specifically designed to manage `Axes` in a `Figure`.  There are other ways, but, in my own experience, this works wonders.\n",
    "  \n",
    "  <div class=\"alert alert-block alert-success\">\n",
    "    <b>Use Colorbase</b>: In addition to the colormap shown in <a href=\"https://matplotlib.org/3.1.1/tutorials/colors/colormaps.html\">the official documentation</a>, you can add \"_r\" to the name of a colormap to obtain its reverse. For example, the original colormap \"spring\" spans from dark blue to yellow. In the code below, I use the colormap \"spring_r\", spanning from yellow to blue.\n",
    "    </div>\n",
    "\n",
    "  <div class=\"alert alert-block alert-success\">\n",
    "    <b>Different Normalizer</b>: There are many ways to map a range of values to the real numbers between 0 and 1. The cm.colors.Normalize() object described above uses a liner projection. However, one may want to use different, non-linear methods -- such as a logarthmic mapping. <a href=\"  https://matplotlib.org/3.1.0/tutorials/colors/colormapnorms.html\n",
    "        \">This tutorial</a> shows you the different possibilities already implemented in matplotlib.\n",
    "    </div>\n"
   ]
  },
  {
   "cell_type": "code",
   "execution_count": null,
   "metadata": {},
   "outputs": [],
   "source": [
    "# The toolkit I mentioned\n",
    "from mpl_toolkits.axes_grid1 import make_axes_locatable\n",
    "# This is the complex part We need the submodule cm\n",
    "from matplotlib import cm\n",
    "norm=cm.colors.Normalize()\n",
    "\n",
    "# Same plot as before\n",
    "fig, ax = plt.subplots(figsize=(10,8))\n",
    "ax.set_title('Use of Taylor and Morgan Over Time')\n",
    "ax.set_xlabel('Year')\n",
    "ax.set_ylabel('Number of Babies with a Given Name')\n",
    "col_object = ax.scatter(morgan['Year'], morgan['Total'], c = morgan['Proportion'], label = 'Morgan', marker = 's', cmap='spring_r')\n",
    "col_object = ax.scatter(taylor['Year'], taylor['Total'], c = taylor['Proportion'], label = 'Taylor', marker = 'v', cmap='spring_r')\n",
    "ax.legend(loc='upper left')\n",
    "ax.grid(color=(0.5,0.5,0.5,0.2), axis='y', lw=0.25)\n",
    "# Create the ScalarMappable object\n",
    "# In our data, we need to create a colorcode for the proportion of girls\n",
    "# This will go from 0 (vmin) to 1 (vmax)\n",
    "norm=cm.colors.Normalize(vmin=0, vmax=1)\n",
    "scalar_mappable = matplotlib.cm.ScalarMappable(norm, cmap='spring_r')\n",
    "# Now, create the space for the colorbar\n",
    "divider = make_axes_locatable(ax)\n",
    "# This is the key line\n",
    "# First argument: where the space will be created (on the right)\n",
    "# size: how much of the original Axes we are using\n",
    "# pad: distance between the newly-created Axes and the resized Axes \n",
    "cax = divider.append_axes('right', size='5%', pad=0.05)\n",
    "# Finally create the colorbar. We add the orientation keyword (it could be horizontal)\n",
    "cbar = fig.colorbar(scalar_mappable, cax=cax, orientation='vertical')\n",
    "# This is a colorbar specific method to set the ticks to appear\n",
    "cbar.set_ticks([0, 0.5, 1])\n",
    "# cbar has it own Axes, that can be accessed through cbar.ax.\n",
    "cbar.ax.set_yticklabels(['0', '0.5', '1'])\n",
    "# We set the name for the colorbar\n",
    "# With respect to the axes produced by the fundamental line, this Axes has different default settings\n",
    "# E.G. the ylabel will appear on the right -- but this is convenient!\n",
    "cbar.ax.set_ylabel('Proportion of Girls', rotation=-90, verticalalignment=\"bottom\")"
   ]
  },
  {
   "cell_type": "markdown",
   "metadata": {},
   "source": [
    "This looks better. As a last step, let's create our own colormap. It is traditional (at least in Western societies) to signal a newborn boy with the color blue and a newborn girl with the color pink. Questionable as it may be, this colorscheme will probably be immediately readable by a Western audience. So, let's implement this colorscheme in our own _cmap_ .\n",
    "\n",
    "Under the hood, a _cmap_ is an object converting values between 0 and 1 to RGBA coordinates. So, when maplotlib passes the normalized data (i.e. from 0 to 1) to a _cmap_, it gets back the RGBA coordinate for each point based on the data the point represents. To create a cmap, we need to invert this operation. That is, we need to specify a way to map number from 0 to 1 to RGBA coordinates. \n",
    "\n",
    "We will use the `LinearSegmentedColormap` object to do this. We will use the keyword colors 'lightskyblue' and 'pink' as the extremes of our colormap. Lightskyblue will map to 0 (all newborns with a given name were boys) and pink will map to 1 (all newborns with a given name were girls). In between, we will use a linear interpolation between these two colors -- `LinearSegmentedColormap` does this for us.\n",
    "\n",
    "\n",
    "\n",
    "<div class=\"alert alert-block alert-success\">\n",
    "    <b>LinearSegmentedColormap</b>: LinearSegmentedColormap is a powerful, yet complex object. Our case is actually the simplest possible -- we just have two colors, at the start and the end of the scale. In cases like these, one can use the `.from_list()` method to create the colormap -- as shown in the code below. What happens when we want a specific color (say white) in the exact middle of the scale? LinearSegmentedColormap can manage this case, and more complex cases. See <a href=\"https://matplotlib.org/3.1.0/gallery/color/custom_cmap.html#sphx-glr-gallery-color-custom-cmap-py\">this tutorial</a> for a more extensive introduction.\n",
    "    </div>"
   ]
  },
  {
   "cell_type": "code",
   "execution_count": null,
   "metadata": {},
   "outputs": [],
   "source": [
    "# Import what we need to create a cmap\n",
    "from matplotlib.colors import LinearSegmentedColormap\n",
    "# Create the cmap. We only specify the name and the colors at the extremes\n",
    "new_cmap = LinearSegmentedColormap.from_list(name = 'new_cmap', colors = ['lightskyblue', 'pink'])\n",
    "# Now we can use our new cmap. The code is identical to the cell above excpet for the cmap used.\n",
    "fig, ax = plt.subplots(figsize=(10,8))\n",
    "ax.set_title('Use of Taylor and Morgan Over Time')\n",
    "ax.set_xlabel('Year')\n",
    "ax.set_ylabel('Number of Babies with a Given Name')\n",
    "col_object = ax.scatter(morgan['Year'], morgan['Total'], c = morgan['Proportion'], label = 'Morgan', marker = 's', cmap=new_cmap)\n",
    "col_object = ax.scatter(taylor['Year'], taylor['Total'], c = taylor['Proportion'], label = 'Taylor', marker = 'v', cmap=new_cmap)\n",
    "ax.legend(loc='upper left')\n",
    "ax.grid(color=(0.5,0.5,0.5,0.2), axis='y', lw=0.25)\n",
    "norm=cm.colors.Normalize(vmin=0, vmax=1)\n",
    "scalar_mappable = matplotlib.cm.ScalarMappable(norm, cmap=new_cmap)\n",
    "divider = make_axes_locatable(ax)\n",
    "cax = divider.append_axes('right', size='5%', pad=0.05)\n",
    "cbar = fig.colorbar(scalar_mappable, cax=cax, orientation='vertical')\n",
    "cbar.set_ticks([0, 0.5, 1])\n",
    "cbar.ax.set_yticklabels(['0', '0.5', '1'])\n",
    "cbar.ax.set_ylabel('Proportion of Girls', rotation=-90, verticalalignment=\"bottom\")"
   ]
  },
  {
   "cell_type": "markdown",
   "metadata": {},
   "source": [
    "### Error Bars\n",
    "\n",
    "It is often useful to plot error bars alongside points. \n",
    "\n",
    "Say that we do not trust our data. We believe that there is a 8% probability that there was some mispelling and all babies named \"Tyler\" were actually meant to be named \"Taylor\" -- all events are mutually independent. Under this assumptions, statistics tells us that a number of \"Tyler\" (boys and girls) should actually be counted as \"Taylor\", following a (shifted) binomial distribution. We can simulate this distribution and get a confindence interval for the proportion of \"Taylor\" who are girls considering the contribution of mispelled \"Tyler\" names. So, let's plot confidence intervals and the expected values of the girl proportion in \"Taylor\" under this scenario\n",
    "\n",
    "To calculate the confidence interval we will bootstrap using simulation in numpy. Do not worry about this part, let's focus on the plot code below."
   ]
  },
  {
   "cell_type": "code",
   "execution_count": null,
   "metadata": {},
   "outputs": [],
   "source": [
    "# Collect the Tyler data\n",
    "tyler = names.loc[names[\"Name\"] == \"Tyler\", :]\n",
    "# Relevant years\n",
    "years_tyler = tyler['Year'].unique()\n",
    "# For each year, we get the proportion of newborns named tyler who is F\n",
    "# We first construct a DataFrame containing the number of girls and total newborns for each year\n",
    "tyler = pd.DataFrame({\"Girls\": tyler.loc[tyler['Gender'] == \"F\", :].groupby(['Year']).sum()['Count'], 'Total': tyler.groupby(['Year']).sum()['Count']})\n",
    "# Get the proportions\n",
    "tyler['Proportion'] = tyler['Girls'] / tyler['Total']\n",
    "# The years are there as the index in the DataFrame. It is convenient to have the years as columns\n",
    "tyler['Year'] = tyler.index\n",
    "print(f\"This is how the Tyler data looks like:\\n\\n{tyler.head()}\")"
   ]
  },
  {
   "cell_type": "code",
   "execution_count": null,
   "metadata": {},
   "outputs": [],
   "source": [
    "# Simulate the number of boys and girls mistankenly counted as Tyler in each year\n",
    "seed = 1246\n",
    "rng = np.random.default_rng(seed)\n",
    "n_sim = 100000\n",
    "p = 0.08\n",
    "tyler_boys  = np.zeros((n_sim, years_tyler.shape[0]))\n",
    "tyler_girls = np.zeros((n_sim, years_tyler.shape[0]))\n",
    "for i, y in enumerate(years_tyler):\n",
    "    tyler_boys[:,i] = rng.binomial(tyler.loc[y, 'Total'] - tyler.loc[y, 'Girls'], p, n_sim)\n",
    "    tyler_girls[:,i] = rng.binomial(tyler.loc[y, 'Girls'], p, n_sim)\n",
    "# Calculate the expected value, lower and upper boundaries for Taylor based on the simulations\n",
    "# We add the data for babies named \"taylor\" in our data -- those are surely named taylor\n",
    "tyler_total = tyler_boys + tyler_girls + taylor['Total'].to_numpy()\n",
    "tyler_girls = tyler_girls + taylor['Girls'].to_numpy()\n",
    "tyler_proportion = tyler_girls / tyler_total\n",
    "expected_tyler_p = np.mean(tyler_proportion, axis = 0)\n",
    "lower_tyler_p = np.percentile(tyler_proportion, 2.5, axis = 0)\n",
    "upper_tyler_p = np.percentile(tyler_proportion, 97.5, axis = 0)\n",
    "del tyler_total, tyler_girls, tyler_boys, tyler_proportion\n",
    "print(f\"First 5 lower boundaries for actual Taylor:\\n {lower_tyler_p[:5]}\")\n",
    "print(f\"First 5 expected values for actual Taylor:\\n  {expected_tyler_p[:5]}\")\n",
    "print(f\"First 5 upper boundaries for actual Taylor:\\n {upper_tyler_p[:5]}\")"
   ]
  },
  {
   "cell_type": "markdown",
   "metadata": {},
   "source": [
    "Now, we have our expected values, lower and upper boundaries in the form of numpy `array`. We can use these to create errorbars through the function `.errorbar()`, which is very similar in syntax to both `.plot()` and `.scatter()`. With respect to these two functions, it contains the arguments _xerr_ and _yerr_ , allowing to plot horizontal and vertical error bars. "
   ]
  },
  {
   "cell_type": "code",
   "execution_count": null,
   "metadata": {},
   "outputs": [],
   "source": [
    "# We need to pass the absolute difference between the central values and the boundaries as a parameter to errorbar\n",
    "# Here we calculate these quantities\n",
    "lower_tyler  = np.abs(expected_tyler_p - lower_tyler_p)\n",
    "upper_tyler  = np.abs(expected_tyler_p - upper_tyler_p)\n",
    "# Nowe we plor\n",
    "# Start with the usual\n",
    "fig, ax = plt.subplots(figsize=(12,8))\n",
    "ax.set_title('Use of Taylor Over Time Considering Tyler\\'s Contribution')\n",
    "ax.set_xlabel('Year')\n",
    "ax.set_ylabel('Proportion of Girls')\n",
    "ax.set_ylim([0,1])\n",
    "# Now the scatter plot. notice the new arguments:\n",
    "ax.errorbar(taylor['Year'], expected_tyler_p, yerr=[lower_tyler, upper_tyler],\n",
    "           fmt='.-', label = 'Taylor + Tyler', color = 'red')\n",
    "# For comparison we also plot the original data\n",
    "ax.errorbar(taylor['Year'], taylor['Proportion'], fmt='.-', label = 'Solely Taylor', color = 'red', alpha = 0.2)\n",
    "ax.grid(color=(0.5,0.5,0.5,0.2), axis='y', lw=0.25)\n",
    "ax.legend(loc='upper left')"
   ]
  },
  {
   "cell_type": "markdown",
   "metadata": {},
   "source": [
    "### Bar Plot\n",
    "\n",
    "Wikipedia tells us that a bar plot \"is a chart or graph that presents categorical data with rectangular bars with heights or lengths proportional to the values that they represent\". This kinds of plots are useful to represent categorical data.\n",
    "\n",
    "As a first step, let's plot the proportion of girls at the beginning and end of our observation period for Taylor. We will use the `Axes` method `.bar()` and `.barh()` -- for **h**orizontal bars. "
   ]
  },
  {
   "cell_type": "code",
   "execution_count": null,
   "metadata": {},
   "outputs": [],
   "source": [
    "# Let's take the data we need out of the morgan data\n",
    "morgan_1965 = morgan.loc[morgan['Year'] == 1965, 'Proportion'].to_numpy()\n",
    "morgan_2014 = morgan.loc[morgan['Year'] == 2014, 'Proportion'].to_numpy()\n",
    "morgan_over_time = np.array([morgan_1965, morgan_2014]).flatten()\n",
    "print(f\"This is the barplot data for Morgan: {morgan_over_time}\")\n",
    "\n",
    "# We get the same data for Taylor\n",
    "taylor_1965 = taylor.loc[taylor['Year'] == 1965, 'Proportion'].to_numpy()\n",
    "taylor_2014 = taylor.loc[taylor['Year'] == 2014, 'Proportion'].to_numpy()\n",
    "taylor_over_time = np.array([taylor_1965, taylor_2014]).flatten()\n",
    "print(f\"This is the barplot data for Taylor: {taylor_over_time}\")"
   ]
  },
  {
   "cell_type": "code",
   "execution_count": null,
   "metadata": {},
   "outputs": [],
   "source": [
    "fig, ax = plt.subplots()\n",
    "# Let's start with well known settings\n",
    "ax.set_ylim([0,1])\n",
    "ax.set_ylabel(\"Proportion of Girls\")\n",
    "ax.set_title(\"Proportion of Girls among Babies Named Morgan\")\n",
    "# First, we need x coordinates for the bars.\n",
    "# Ultimately, the position of the bars are determined by *both* their x coordinates \n",
    "# *and* the x limits of the Axes. \n",
    "# I like to put the xlim = [0,1]. When you do, you can interpret the x coordinates \n",
    "# (a value between 0 and 1) as the proportion of the Axes on the left of the bar\n",
    "# However, centering the bars in right place take a little calculation\n",
    "ax.set_xlim([0,1])\n",
    "# First we create a list of labels for all the bars we want\n",
    "x_labels = ['1965', '2014']\n",
    "n_labels = len(x_labels)\n",
    "# Then we select a width for our bars (0.1 is 10% of the width of the entire Axes)\n",
    "width=0.1 \n",
    "# To calculate the center of the bars, we use this little loop.\n",
    "# It makes sure that the space between bars and between\n",
    "# bars and the left/right spines is constant\n",
    "x_coor = np.zeros((n_labels,))\n",
    "for i,j in enumerate(x_coor):\n",
    "    x_coor[i] = (i+1)*(1-width*n_labels)/(n_labels+1) + i*width + width/2\n",
    "ax.bar(x_coor, height=morgan_over_time, width=width)\n",
    "ax.set_xticks(x_coor)\n",
    "ax.set_xticklabels(x_labels)"
   ]
  },
  {
   "cell_type": "markdown",
   "metadata": {},
   "source": [
    "The syntax of the `.bar()` is quite straightforward. The only real issue is calculating the centers of the bars in such a way that the plot has harmonius horizontal spacing.\n",
    "\n",
    "In the next plot, let's group our bars so as to compare the use of Taylor with the use of Morgan. We will group the bars by name and color them by year. "
   ]
  },
  {
   "cell_type": "code",
   "execution_count": null,
   "metadata": {},
   "outputs": [],
   "source": [
    "fig, ax = plt.subplots()\n",
    "ax.set_xlim([0,1])\n",
    "ax.set_xlabel(\"Proportion of Girls\")\n",
    "ax.set_title(\"Proportion of Girls among Babies Named Morgan or Taylor\")\n",
    "ax.set_ylim([0,1])\n",
    "x_labels = ['1965', '2014']\n",
    "n_labels = len(x_labels)\n",
    "# Then we select a width for our bars (0.1 is 10% of the width of the entire Axes)\n",
    "# Since we plot groups of two bars, we will set the width parameter to double its real value\n",
    "# This is helpful in the calculation of the bar centers below\n",
    "width= 0.1 *2\n",
    "x_coor = np.zeros((n_labels,))\n",
    "for i,j in enumerate(x_coor):\n",
    "    x_coor[i] = (i+1)*(1-width*n_labels)/(n_labels+1) + i*width + width/2\n",
    "# Real value of width\n",
    "width = width/2\n",
    "ax.bar(x_coor-width/2, height=morgan_over_time, width=width, label=\"Morgan\")\n",
    "ax.bar(x_coor+width/2, height=taylor_over_time, width=width, label=\"Taylor\")\n",
    "ax.set_xticks(x_coor)\n",
    "ax.set_xticklabels(x_labels)\n",
    "# Put a legend, as usual\n",
    "ax.legend(loc='upper left')"
   ]
  },
  {
   "cell_type": "markdown",
   "metadata": {},
   "source": [
    "For completness, let's check how to create a horizontal bar plot. You can see it is based on the method `.barh()`.  The syntax for horizontal bars is identical to what we have seen for vertical bar. The only trick is that you have to invert the x with y axis -- so you have to invert the _y\\_label_ with the _x\\_label_ , _width_ with _height_ , etc.\n",
    "\n",
    "<div class=\"alert alert-block alert-success\">\n",
    "    <b>More Advanced Bar Plots</b>: Bar plots have two common use not explored here. On the one hand, they can show errorbars. The .bar() and .hbar() methods have a yerr and a xerr very close to what we have seen for .errorbar() method. On the other hand, it is common to stack columns on top of each other to show how a quantity can be decomposed. For example, we could analyze the contribution of 1965 and 2014 to the total number of people ever named \"Morgan\" in the US. <a href=\"https://matplotlib.org/3.3.0/gallery/lines_bars_and_markers/bar_stacked.html#sphx-glr-gallery-lines-bars-and-markers-bar-stacked-py\">This tutorial</a> from the official documentation shows both how to add error bars to bars and how to stack bars.\n",
    "    </div>"
   ]
  },
  {
   "cell_type": "code",
   "execution_count": null,
   "metadata": {},
   "outputs": [],
   "source": [
    "fig, ax = plt.subplots()\n",
    "ax.set_title(\"Proportion of Girls among Babies Named Morgan or Taylor\")\n",
    "# Notice the swap of x with y w.r.t. the previous plot\n",
    "ax.set_xlim([0,1])\n",
    "ax.set_xlabel(\"Proportion of Girls\")\n",
    "ax.set_ylim([0,1])\n",
    "ax.set_yticks(x_coor)\n",
    "ax.set_yticklabels(x_labels)\n",
    "# Notice the swap of width with height\n",
    "ax.barh(x_coor-width/2, width=morgan_over_time, height=width, label=\"Morgan\")\n",
    "ax.barh(x_coor+width/2, width=taylor_over_time, height=width, label=\"Taylor\")\n",
    "# The legend also changes its place\n",
    "ax.legend(loc='lower right')"
   ]
  },
  {
   "cell_type": "markdown",
   "metadata": {},
   "source": [
    "#### Your Turn\n",
    "\n",
    "We have plotted the Morgan and Taylor data grouped by year. Now it is your turn to plot the same data grouped by name. Notice that the x coordinates for the center of the bars are the same as before -- since, as before, we have two groups of two bars. So, we don't need to re-calculate it."
   ]
  },
  {
   "cell_type": "code",
   "execution_count": null,
   "metadata": {},
   "outputs": [],
   "source": [
    "# Here I just re-organize the data by year instead of by-name\n",
    "# y_1965 contains the data (both Morgan and Taylor) for year 1965\n",
    "y_1965 = np.array([morgan_over_time[0], taylor_over_time[0]]).flatten()\n",
    "# y_2014 contains the data (both Morgan and Taylor) for year 1965\n",
    "y_2014 = np.array([morgan_over_time[1], taylor_over_time[1]]).flatten()"
   ]
  },
  {
   "cell_type": "code",
   "execution_count": null,
   "metadata": {},
   "outputs": [],
   "source": [
    "# The new x tick labels\n",
    "x_labels = ['Morgan', 'Taylor']\n",
    "width = 0.1\n",
    "# x_coordinate are the same, so no need to do anything\n",
    "\n",
    "# Create the figure and the axes\n",
    "fig, ax = \n",
    "# set the x limit to 0-1\n",
    "ax.\n",
    "# Set the x ticks to x_coor\n",
    "ax.\n",
    "# set the x tick labels to x_labels\n",
    "ax.\n",
    "# Set the x label to \"Proportion of Girls\"\n",
    "ax.\n",
    "# set the y limit to 0-1\n",
    "ax.\n",
    "# Set the titel to \"Proportion of Girls among Babies Named Morgan or Taylor\"\n",
    "ax.\n",
    "# Create the bars for 1965 using the variable y_1965. The width should be set to width and the label to 1965\n",
    "ax.bar(x_coor-width/2, )\n",
    "# Create the bars for 2014 using the variable y_2014. The width should be set to width and the label to 2014\n",
    "ax.\n",
    "# Put a legend in the  upper left corner\n",
    "ax"
   ]
  },
  {
   "cell_type": "markdown",
   "metadata": {},
   "source": [
    "### Histograms\n",
    "\n",
    "NSF is very concerned about the rise and fall of name fashion -- by the way, let me mention that this is actually a _very_ interesting sociological question. They pay us 2 milion dollars to collect a simple random sample of people named \"Morgan\" and \"Taylor\". We collected data about 10,000 Taylor and 10,000 Morgan from the Social Security database. Here, we want to see the distribution of the birthdates of our respondents.\n",
    "\n",
    "First we create...uhm, I meant _collect_ the data we will be plotting."
   ]
  },
  {
   "cell_type": "code",
   "execution_count": null,
   "metadata": {},
   "outputs": [],
   "source": [
    "# To do our SRS of birthyears, I need a list containing all the population of samplable years\n",
    "# To arrive there, I use a simple trick with the Counter dictionary\n",
    "from collections import Counter\n",
    "\n",
    "# Size of the sample\n",
    "n = 10000\n",
    "seed = 4567891\n",
    "# Create a generator\n",
    "rng = np.random.default_rng(seed)\n",
    "# Do the sample for Morgan\n",
    "# Create a counter of the form Year: Number_of_babies\n",
    "y_population = Counter({y:morgan.loc[y, 'Total'] for y in morgan['Year']})\n",
    "# This line creates a list containing the years as counted by the Counter\n",
    "y_population = np.array( list(y_population.elements()))\n",
    "# We can now sample randomly from the list\n",
    "morgan_bd = rng.choice(y_population, n, replace = False)\n",
    "# We represent the exact birthdate by adding a random number between 0-1 to each year\n",
    "morgan_bd = morgan_bd + rng.random(n)\n",
    "\n",
    "# Same for Taylor\n",
    "y_population = Counter({y:taylor.loc[y, 'Total'] for y in taylor['Year']})\n",
    "# This line creates a list containing the years as counted by the Counter\n",
    "y_population = np.array( list(y_population.elements()))\n",
    "# We can now sample randomly from the list\n",
    "taylor_bd = rng.choice(y_population, n, replace = False)\n",
    "# We represent the exact birthdate by adding a random number between 0-1 to each year\n",
    "taylor_bd = taylor_bd + rng.random(n)\n",
    "\n",
    "# Put the data in DataFrame\n",
    "birthday_sample = pd.DataFrame({'Taylor': taylor_bd, 'Morgan': morgan_bd})\n",
    "print(f'This is how the birthday data looks like:\\n{birthday_sample.head()}')"
   ]
  },
  {
   "cell_type": "markdown",
   "metadata": {},
   "source": [
    "We will analyze the distribution of \"Morgan\" and \"Taylor\" over the years with histograms. I believe histograms need no presentation. They represent the data distribution over a continous variables with rectangles. Matplotlib offers a simple syntax to draw histograms based on the `Axes` method `.hist()`.\n",
    "\n",
    "Let's start with drawing the data for Taylor."
   ]
  },
  {
   "cell_type": "code",
   "execution_count": null,
   "metadata": {},
   "outputs": [],
   "source": [
    "# The fundamental line\n",
    "fig, ax = plt.subplots()\n",
    "# the argument bins control the number of bins and their exact position \n",
    "# by default, matplotlib will use 10 equally-spaced bins\n",
    "bins =  ax.hist(birthday_sample['Taylor'], bins = 15)\n",
    "ax.set_title(\"Birthday of Individuals Named Taylor\")\n",
    "ax.set_xlabel('Year')\n",
    "ax.set_ylabel('Raw number')"
   ]
  },
  {
   "cell_type": "markdown",
   "metadata": {},
   "source": [
    "Often time, you want to compare distributions for different data series. Let's plot more than one histogram in the same plot."
   ]
  },
  {
   "cell_type": "code",
   "execution_count": null,
   "metadata": {},
   "outputs": [],
   "source": [
    "# Same as before\n",
    "fig, ax = plt.subplots()\n",
    "ax.hist(birthday_sample['Taylor'], bins = 15, label='Taylor')\n",
    "ax.set_title(\"Birthday of Individuals Named Taylor or Morgan\")\n",
    "ax.set_xlabel('Year')\n",
    "ax.set_ylabel('Raw number')\n",
    "# Add a new histogram\n",
    "ax.hist(birthday_sample['Morgan'], bins = 15, label='Morgan')\n",
    "ax.legend(loc='upper left')\n",
    "# Looks terrible!"
   ]
  },
  {
   "cell_type": "markdown",
   "metadata": {},
   "source": [
    "The main issue with the previous plot is that the two histograms overlap and the one on the forefront cover the one on the background. Another issue is that the binning seems slightly different in the two histograms.\n",
    "\n",
    "We will solve the first issue by not filling the histograms. We will use the _histtype_ argument of `.hist()`. Another solution is to use semi-transparent histograms, as shown in the exercise below. \n",
    "\n",
    "As for the second issue, we will use the _bins_ argument to specify the binning we want. However, we first need to engeneer a uniform binning for both data series. In this case, we are quite lucky that the two data series are really defined over the same support. So, we could use the binning that matplotlib produces based on the first data series we input. This is what I would normally do in a case like this. However, I will show you a method that works for not-so-well-aligned data as well. It is a little more complex, but more general -- so you can apply it to your data. The method is based on the function `.histogram_bin_edges()` from numpy -- internally used by matplotlib `.hist()` to create its own binning.\n",
    "\n",
    "<div class=\"alert alert-block alert-success\">\n",
    "    <b>Binning</b>: The choice of the right binning is fundamental to construct a good histogram. Indeed, you can see the histogram as an estimator. Too many bins means that you put too much confidence in your data. Too few bins means that you are not using your data optimally. And this changes depending on the region of the space -- some region will be more populated than others in your data. <a href=\"https://docs.astropy.org/en/stable/visualization/histogram.html\">This tutorial</a> from AstroPy shows how different binning strategies tell completely different stories based on the same data. Researchers have investigated binning strategy for decades. The function .histogram_bin_edges() implements some of the most popular binning strategies available from literature. These strategy are completely automatic (you do not need to specify the number of bins) and provide a strong theoretical justification for your binning. See <a href=\"https://docs.astropy.org/en/stable/visualization/histogram.html\">the official numpy documentation</a> for an overview of what is available.\n",
    "        </div>"
   ]
  },
  {
   "cell_type": "code",
   "execution_count": null,
   "metadata": {},
   "outputs": [],
   "source": [
    "# To get a uniform binning for both dataseries we first create a numpy array with both series\n",
    "all_data = np.concatenate((birthday_sample['Taylor'], birthday_sample['Morgan']))\n",
    "# This is the command that will get you binning for the entire dataset.\n",
    "# It is the same function that matplotlib uses behind the scene\n",
    "bins = np.histogram_bin_edges(all_data, bins=15, range=[1965, 2015])\n",
    "# Same as before\n",
    "fig, ax = plt.subplots()\n",
    "ax.set_title(\"Birthday of Individuals Named Taylor or Morgan\")\n",
    "ax.set_xlabel('Year')\n",
    "ax.set_ylabel('Raw number')\n",
    "# Add the histograms. Notice the histtype argument\n",
    "ax.hist(birthday_sample['Taylor'], bins = bins, label='Taylor', histtype='step')\n",
    "ax.hist(birthday_sample['Morgan'], bins = bins, label='Morgan', histtype='step')\n",
    "ax.legend(loc='upper left')\n",
    "# Better!"
   ]
  },
  {
   "cell_type": "markdown",
   "metadata": {},
   "source": [
    "#### Your Turn\n",
    "\n",
    "Another, possibly more popular, way to plot multiple histograms on the same `Axes` is to make them semi-transparent using the alpha values. Here we will be using the style _bmh_ -- an acronym for the book <a href=\"http://camdavidsonpilon.github.io/Probabilistic-Programming-and-Bayesian-Methods-for-Hackers/\">Bayesian Methods for Hacker</a>. This style is engeneered to compare histograms. We will also modify the alpha of the two hitograms. We will be using the bins we calculated above, so no reason to re-calculate them."
   ]
  },
  {
   "cell_type": "code",
   "execution_count": null,
   "metadata": {},
   "outputs": [],
   "source": [
    "# Change the style to bmh\n",
    "\n",
    "# Create the fig and ax\n",
    "fig, ax =\n",
    "# Set the title to \"Birthday of Individuals Named Taylor or Morgan\"\n",
    "ax.\n",
    "# Set the x label to \"Year\"\n",
    "ax.\n",
    "# Set the y label to \"Raw Number\"\n",
    "ax.\n",
    "# Create first histogram with the Taylor data\n",
    "# Remember to specify the bins and the label\n",
    "# Also, set the alpha argument to 0.3\n",
    "ax.\n",
    "# Create the histogram with the Morgan data. Remember bins and label\n",
    "# Here as well, set the alpha argument to 0.3\n",
    "ax.\n",
    "# Create legedn in upper left corner\n",
    "ax.\n",
    "# Back to default style\n",
    "plt.style.use('default')"
   ]
  },
  {
   "cell_type": "markdown",
   "metadata": {},
   "source": [
    "### Heatmaps and Images\n",
    "\n",
    "As the final chapter of the workshop, let's examine heatmap and raster images. Wikipedia defines the heatmap as \"a data visualization technique that shows magnitude of a phenomenon as color in two dimension\". Practically, a heatmap is a plot of a matrix. Raster images are the most common kind of digitized pictures. Png, Jpegs, tiff, etc. are all raster images. You can use matplotlib to visualize them. Now, this is not very common practice. For example, matplotlib does not save in jpeg. If you really need to do work with raster images, probably you will end up using the library <a href=\"https://pypi.org/project/Pillow/\">pillow</a>, which matplotlib uses behind the scene anyway. However, as you will see, creating a heatmap and visualizing a raster image is substantially the same. Therefore, it is worth knowing how to do it."
   ]
  },
  {
   "cell_type": "markdown",
   "metadata": {},
   "source": [
    "#### Heatmaps\n",
    "\n",
    "\n",
    "Heatmaps are colorful representation of matrices. Therefore, we will start by constructing a matrix to be drawn. We will plot the proportion of girls named Morgan and Taylor for every 10 years in the dataset."
   ]
  },
  {
   "cell_type": "code",
   "execution_count": null,
   "metadata": {},
   "outputs": [],
   "source": [
    "# Take the data from the morgan DataFrame and transform it in a matrix\n",
    "selected_yrs = np.arange(1965, 2014, 8)\n",
    "matrix_dt = np.array([morgan.loc[selected_yrs, 'Proportion'], taylor.loc[selected_yrs, 'Proportion']])\n",
    "matrix_dt = matrix_dt.T\n",
    "# print(selected_yrs)\n",
    "print(f\"The selected years:{selected_yrs}\\n\\n\")\n",
    "print(f\"First five rows of the data matrix:\\n{matrix_dt[:5,:]}\")"
   ]
  },
  {
   "cell_type": "markdown",
   "metadata": {},
   "source": [
    "Now we will use the `Axes` method `.imshow()` to produce a heatmap of the data. In a heatmap, it is fundamental to choose the right colormap to make the plot readable. Since a proportion goes from 0 to 1, it is appropriate to use a \"perceptually uniform\" cmap. When the data also present negative numbers, one may opt for a \"divergent\" cmap. Here, we will be using \"plasma\" as our cmap."
   ]
  },
  {
   "cell_type": "code",
   "execution_count": null,
   "metadata": {},
   "outputs": [],
   "source": [
    "# Create the figure and the axis\n",
    "fig, ax =plt.subplots()\n",
    "# visualize the matrix\n",
    "ax.imshow(matrix_dt, cmap='plasma')\n",
    "# Title\n",
    "ax.set_title('Proportion of Girls among Babies')\n",
    "# Set the y ticks so that row has a tick\n",
    "ax.set_yticks(range(selected_yrs.shape[0]))\n",
    "# Set the y ticks label to display the year\n",
    "ax.set_yticklabels(selected_yrs)\n",
    "# Set the x ticks so that column has a tick\n",
    "ax.set_xticks(range(2))\n",
    "# Set the x ticks label to display the name\n",
    "ax.set_xticklabels(['Morgan', 'Taylor'])"
   ]
  },
  {
   "cell_type": "markdown",
   "metadata": {},
   "source": [
    "What is lacking from the plot above is a color scale telling us what the colors mean. Above, I showed how to add a `.colorbar()` to an `Axes`. The same code applies here. However, we can also write the value of each cell directly inside the cell in the plot. To do that, we will use the `Axes` function `.text()`."
   ]
  },
  {
   "cell_type": "code",
   "execution_count": null,
   "metadata": {},
   "outputs": [],
   "source": [
    "# Same plot as above\n",
    "fig, ax =plt.subplots()\n",
    "ax.imshow(matrix_dt, cmap='plasma')\n",
    "ax.set_title('Proportion of Girls among Babies')\n",
    "ax.set_yticks(range(selected_yrs.shape[0]))\n",
    "ax.set_yticklabels(selected_yrs)\n",
    "ax.set_xticks(range(2))\n",
    "ax.set_xticklabels(['Morgan', 'Taylor'])\n",
    "\n",
    "# Loop over rows and columns to write text in each cell\n",
    "for i in range(matrix_dt.shape[0]):\n",
    "    for j in range(matrix_dt.shape[1]):\n",
    "        # We use np.round_ to show only two digits\n",
    "        text = ax.text(j, i, np.round_(matrix_dt[i, j],2),\n",
    "                       horizontalalignment=\"center\", verticalalignment=\"center\", \n",
    "                       color=\"gray\")"
   ]
  },
  {
   "cell_type": "markdown",
   "metadata": {},
   "source": [
    "#### Raster Images\n",
    "\n",
    "It turns out that raster images are like big matrices. For example, a 600x400 raster image in grayscale is a 600x400 matrix. Each cell in the matrix contains the information to color the corresponding pixel in the image. Color images works in the same way. The only difference between color and grayscale images is that color images have 4 matrices stacked on top of each others: a matrix for the red channel, a matrix for the green channel, a matrix for the blue channel, and a matrix for the alpha channel. Therefore, drawing a heatmap is really similar to drawing a picture. Usually, raster images are much bigger than data matrices, but the principle and syntax to draw them is the same.  \n",
    "\n",
    "Here, we will load a Taylor-related image from the internet and visualize it."
   ]
  },
  {
   "cell_type": "code",
   "execution_count": null,
   "metadata": {},
   "outputs": [],
   "source": [
    "# This is the syntax to load a png image as a series of stacked matrices inside python\n",
    "import matplotlib.image as mpimg\n",
    "\n",
    "url_image = r\"https://www.freepngimg.com/thumb/taylor_swift/21167-1-taylor-swift-image.png\"\n",
    "img = mpimg.imread(url_image)\n",
    "# See the red channel in the image:\n",
    "print(f\"This is the matrix of the red channel:\\n{img[:,:,0]}\")\n",
    "\n",
    "# Now the plot. There is really nothing new here.\n",
    "fig, ax = plt.subplots() \n",
    "ax.imshow(img)\n",
    "ax.set_title(\"Taylor Swift Can't Believe She Is in Matplotlib\")\n",
    "# We eliminate the usual paraphernalia of data plotting, such as axis ticks.\n",
    "ax.set_xticks([])\n",
    "ax.set_yticks([])\n",
    "ax.spines['bottom'].set_visible(False)\n",
    "ax.spines['left'].set_visible(False)\n",
    "ax.spines['right'].set_visible(False)\n",
    "fig.savefig(\"taylor.png\", dpi=200)"
   ]
  },
  {
   "cell_type": "markdown",
   "metadata": {},
   "source": [
    "#### The End\n",
    "\n",
    "This is the end of the workshop. Thanks for attending. As a bonus, we will have a little fun with Taylor. This plot wraps up nicely what we have done -- and shows that in order to something slightly different than usual, you always need what you learned in the first part of the workshop. We will create a Warhol-like plot of Taylor Swift."
   ]
  },
  {
   "cell_type": "code",
   "execution_count": null,
   "metadata": {},
   "outputs": [],
   "source": [
    "fig, ax = plt.subplots(nrows=2, ncols=2) \n",
    "# Delete the space between axes and occupy the entirity of the fig with axes\n",
    "fig.subplots_adjust(left=0, right=1, bottom=0, top=1, hspace=-0.21, wspace=0)\n",
    "# Eliminate axis, spines, etc.\n",
    "for i in range(ax.shape[0]):\n",
    "    for j in range(ax.shape[1]):\n",
    "        ax[i,j].set_xticks([])\n",
    "        ax[i,j].set_yticks([])\n",
    "        ax[i,j].spines['top'].set_visible(False)\n",
    "        ax[i,j].spines['bottom'].set_visible(False)\n",
    "        ax[i,j].spines['left'].set_visible(False)\n",
    "        ax[i,j].spines['right'].set_visible(False)\n",
    "\n",
    "# Select background pixels as those that are transparent\n",
    "background_pixels = (img[:,:,3] == 0)\n",
    "background_matrix = np.zeros_like(img[:,:,0])\n",
    "background_matrix[background_pixels] = 1\n",
    "# ax[0,0].imshow(img[:,:,0], cmap='hot')\n",
    "ax[0,0].imshow(background_matrix, cmap='Wistia')\n",
    "ax[0,1].imshow(background_matrix, cmap='nipy_spectral')\n",
    "ax[1,0].imshow(background_matrix, cmap='nipy_spectral_r')\n",
    "ax[1,1].imshow(background_matrix, cmap='viridis')\n",
    "# Save this masterpiece. Notice the transparency\n",
    "fig.savefig('taylor_warhol.png', dpi=200, transparent=True)"
   ]
  }
 ],
 "metadata": {
  "kernelspec": {
   "display_name": "Python 3",
   "language": "python",
   "name": "python3"
  },
  "language_info": {
   "codemirror_mode": {
    "name": "ipython",
    "version": 3
   },
   "file_extension": ".py",
   "mimetype": "text/x-python",
   "name": "python",
   "nbconvert_exporter": "python",
   "pygments_lexer": "ipython3",
   "version": "3.7.6"
  }
 },
 "nbformat": 4,
 "nbformat_minor": 4
}
