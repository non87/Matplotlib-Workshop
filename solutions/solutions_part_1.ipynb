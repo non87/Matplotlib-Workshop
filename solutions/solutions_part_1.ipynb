{
 "cells": [
  {
   "cell_type": "markdown",
   "metadata": {},
   "source": [
    "### Solutions\n",
    "\n",
    "This notebook contains solutions to the exercises in Part 1. This code will not work unless you copy-paste it in the workshop1 notebook. Run it from there."
   ]
  },
  {
   "cell_type": "markdown",
   "metadata": {},
   "source": [
    "#### Exercise 1"
   ]
  },
  {
   "cell_type": "code",
   "execution_count": null,
   "metadata": {},
   "outputs": [],
   "source": [
    "# Create two subplots in one row using The Fundamental Line\n",
    "fig, ax = plt.subplots(ncols=2)\n",
    "# ylim from -100 to 100\n",
    "ax[0].set_ylim([-100, 100])\n",
    "# grid\n",
    "ax[0].grid()\n",
    "# title\n",
    "ax[0].set_title(\"Long Y\")\n",
    "# xlim to -100 to 100\n",
    "ax[1].set_xlim([-100, 100])\n",
    "# grid\n",
    "ax[1].grid()\n",
    "# title\n",
    "ax[1].set_title(\"Long X\")"
   ]
  },
  {
   "cell_type": "markdown",
   "metadata": {},
   "source": [
    "#### Exercise 2"
   ]
  },
  {
   "cell_type": "code",
   "execution_count": null,
   "metadata": {},
   "outputs": [],
   "source": [
    "# Create the figure and axes using The Fundamental Line\n",
    "fig, ax = plt.subplots()\n",
    "# Get the axes properties. You will notice there is a children list (exactly as in Figure)\n",
    "print(matplotlib.artist.getp(ax))\n",
    "# The rectangular patch we look for is the last in the children list\n",
    "rect = ax.get_children()[-1]\n",
    "# use plt.setp() Set the color to red\n",
    "plt.setp(rect, facecolor=(1, 0, 0, 1))"
   ]
  },
  {
   "cell_type": "markdown",
   "metadata": {},
   "source": [
    "#### Exercise 3"
   ]
  },
  {
   "cell_type": "code",
   "execution_count": null,
   "metadata": {},
   "outputs": [],
   "source": [
    "# Don't forget to use the style 'ggplot', otherwise my advisor will get me\n",
    "plt.style.use('ggplot')\n",
    "\n",
    "fig, ax = plt.subplots(figsize= (10,8))\n",
    "# Find a good title and put it on the plot\n",
    "ax.set_title('Reagan Vs. Obama Effect')\n",
    "# Set the x label to 'Year'\n",
    "ax.set_xlabel('Year')\n",
    "# Set the y label to Number of newborns named as the First Lady\n",
    "ax.set_ylabel('Number of newborns named as the First Lady')\n",
    "# Draw the two vertical lines. They x value for them is still saved \n",
    "# in the two variables election_2008 and election_1980\n",
    "ax.axvline(x=election_2008, color=(0, 0, 1, 0.5), linewidth=1.3, linestyle=\"--\")\n",
    "# election \n",
    "ax.axvline(x=election_1980, color=(1, 0, 0,1), linewidth=1.3, linestyle=\"--\")\n",
    "# Plot the Nancy data. Don't forget the label!\n",
    "ax.plot(nancy['Year'], nancy['Count'], color='red', linestyle=\"-.\", linewidth=3, label = 'Reagan')\n",
    "# Plot the Michelle data. Don't forget the label!\n",
    "ax.plot(michelle['Year'], michelle['Count'], color='blue', linestyle=\"-.\", linewidth=3, label = 'Obama')\n",
    "# Now create a legend\n",
    "ax.legend(loc='upper right')\n",
    "# Change y-scale\n",
    "ax.set_yscale(\"log\")\n",
    "# Save it as 'first_lady.png'\n",
    "plt.savefig('first_lady.png', dpi=200)\n",
    "# Go back to default style\n",
    "plt.style.use('default')"
   ]
  }
 ],
 "metadata": {
  "kernelspec": {
   "display_name": "Python 3",
   "language": "python",
   "name": "python3"
  },
  "language_info": {
   "codemirror_mode": {
    "name": "ipython",
    "version": 3
   },
   "file_extension": ".py",
   "mimetype": "text/x-python",
   "name": "python",
   "nbconvert_exporter": "python",
   "pygments_lexer": "ipython3",
   "version": "3.8.3"
  }
 },
 "nbformat": 4,
 "nbformat_minor": 4
}
