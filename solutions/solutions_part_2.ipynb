{
 "cells": [
  {
   "cell_type": "markdown",
   "metadata": {},
   "source": [
    "### Solutions\n",
    "\n",
    "This notebook contains solutions to the exercises in Part 2. This code will not work unless you copy-paste it in the notebook of the Part 2 of the workshop. Run it from there."
   ]
  },
  {
   "cell_type": "markdown",
   "metadata": {},
   "source": [
    "#### Exercise 1: Scatter Plot"
   ]
  },
  {
   "cell_type": "code",
   "execution_count": null,
   "metadata": {},
   "outputs": [],
   "source": [
    "# Create a figure and and an Axes with the fundamental line\n",
    "fig, ax = plt.subplots()\n",
    "# Put \"Use of Morgan\" as a title\n",
    "ax.set_title('Use of Morgan')\n",
    "# Use \"Total Babies Named Morgan\" as the x label\n",
    "ax.set_xlabel('Total Babies Named Morgan')\n",
    "# Use \"Proportion of Girls\" as the y label\n",
    "ax.set_ylabel('Proportion of Girls')\n",
    "# Set the y limits from 0 to 1\n",
    "ax.set_ylim([0,1])\n",
    "# Now the scatter plot. Use\n",
    "# x-axis: morgan['total']\n",
    "# y-axis: morgan['Proportion']\n",
    "# color: morgan['Year']\n",
    "ax.scatter(morgan['Total'], morgan['Proportion'], c = morgan['Year'], label = 'Morgan', cmap = 'gist_gray')\n",
    "ax.grid(color=(0.5,0.5,0.5,0.2), axis='y', lw=0.25)"
   ]
  },
  {
   "cell_type": "markdown",
   "metadata": {},
   "source": [
    "#### Exercise 2: Bar Plot"
   ]
  },
  {
   "cell_type": "code",
   "execution_count": null,
   "metadata": {},
   "outputs": [],
   "source": [
    "# The new x tick labels\n",
    "x_labels = ['Morgan', 'Taylor']\n",
    "width = 0.1\n",
    "# x_coordinate are the same, so no need to do anything\n",
    "\n",
    "# Create the figure and the axes\n",
    "fig, ax = plt.subplots()\n",
    "# set the x limit to 0-1\n",
    "ax.set_xlim([0,1])\n",
    "# Set the x ticks to x_coor\n",
    "ax.set_xticks(x_coor)\n",
    "# set the x tick labels to x_labels\n",
    "ax.set_xticklabels(x_labels)\n",
    "# Set the x label to \"Proportion of Girls\"\n",
    "ax.set_xlabel(\"Proportion of Girls\")\n",
    "# set the y limit to 0-1\n",
    "ax.set_ylim([0,1])\n",
    "# Set the titel to \"Proportion of Girls among Babies Named Morgan or Taylor\"\n",
    "ax.set_title(\"Proportion of Girls among Babies Named Morgan or Taylor\")\n",
    "# Create the bars for 1965 using the variable y_1965. The width should be set to width and the label to 1965\n",
    "ax.bar(x_coor-width/2, height=y_1965, width=width, label=\"1965\")\n",
    "# Create the bars for 2014 using the variable y_2014. The width should be set to width and the label to 2014\n",
    "ax.bar(x_coor+width/2, height=y_2014, width=width, label=\"2014\")\n",
    "# Put a legend in the  upper left corner\n",
    "ax.legend(loc='upper left')"
   ]
  },
  {
   "cell_type": "markdown",
   "metadata": {},
   "source": [
    "#### Exercise 3: Histogram"
   ]
  },
  {
   "cell_type": "code",
   "execution_count": null,
   "metadata": {},
   "outputs": [],
   "source": [
    "# Change the style to bmh\n",
    "plt.style.use('bmh')\n",
    "# Create the fig and ax\n",
    "fig, ax = plt.subplots()\n",
    "# Set the title to \"Birthday of Individuals Named Taylor or Morgan\"\n",
    "ax.set_title(\"Birthday of Individuals Named Taylor or Morgan\")\n",
    "# Set the x label to \"Year\"\n",
    "ax.set_xlabel('Year')\n",
    "# Set the y label to \"Raw Number\"\n",
    "ax.set_ylabel('Raw number')\n",
    "# Create first histogram with the Taylor data\n",
    "# Remember to specify the bins and the label\n",
    "# Also, set the alpha argument to 0.3\n",
    "ax.hist(birthday_sample['Taylor'], bins = bins, label='Taylor', alpha=0.3)\n",
    "# Create the histogram with the Morgan data. Remember bins and label\n",
    "# Here as well, set the alpha argument to 0.3\n",
    "ax.hist(birthday_sample['Morgan'], bins = bins, label='Morgan', alpha=0.3)\n",
    "# Create legedn in upper left corner\n",
    "ax.legend(loc='upper left')\n",
    "# Back to default style\n",
    "plt.style.use('default')"
   ]
  }
 ],
 "metadata": {
  "kernelspec": {
   "display_name": "Python 3",
   "language": "python",
   "name": "python3"
  },
  "language_info": {
   "codemirror_mode": {
    "name": "ipython",
    "version": 3
   },
   "file_extension": ".py",
   "mimetype": "text/x-python",
   "name": "python",
   "nbconvert_exporter": "python",
   "pygments_lexer": "ipython3",
   "version": "3.8.3"
  }
 },
 "nbformat": 4,
 "nbformat_minor": 4
}
